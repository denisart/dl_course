{
  "nbformat": 4,
  "nbformat_minor": 0,
  "metadata": {
    "accelerator": "GPU",
    "colab": {
      "name": "PyTorch_CNN.ipynb",
      "provenance": [],
      "collapsed_sections": []
    },
    "kernelspec": {
      "display_name": "Python 3",
      "language": "python",
      "name": "python3"
    },
    "language_info": {
      "codemirror_mode": {
        "name": "ipython",
        "version": 3
      },
      "file_extension": ".py",
      "mimetype": "text/x-python",
      "name": "python",
      "nbconvert_exporter": "python",
      "pygments_lexer": "ipython3",
      "version": "3.7.7"
    }
  },
  "cells": [
    {
      "cell_type": "markdown",
      "metadata": {
        "id": "V-388OVPBgNs",
        "colab_type": "text"
      },
      "source": [
        "# Задание 3.2 - сверточные нейронные сети (CNNs) в PyTorch\n",
        "\n",
        "Это упражнение мы буде выполнять в Google Colab - https://colab.research.google.com/  \n",
        "Google Colab позволяет запускать код в notebook в облаке Google, где можно воспользоваться бесплатным GPU!  \n",
        "\n",
        "Авторы курса благодарят компанию Google и надеятся, что праздник не закончится.\n",
        "\n",
        "Туториал по настройке Google Colab:  \n",
        "https://medium.com/deep-learning-turkey/google-colab-free-gpu-tutorial-e113627b9f5d  \n",
        "(Keras инсталлировать не нужно, наш notebook сам установит PyTorch)\n"
      ]
    },
    {
      "cell_type": "code",
      "metadata": {
        "colab_type": "code",
        "id": "FcXBeP1O7cnY",
        "colab": {
          "base_uri": "https://localhost:8080/",
          "height": 521
        },
        "outputId": "604b1b15-53b6-4f88-cb9b-86438596c018"
      },
      "source": [
        "# Intstall PyTorch and download data\n",
        "!pip3 install torch torchvision\n",
        "\n",
        "!wget -c http://ufldl.stanford.edu/housenumbers/train_32x32.mat http://ufldl.stanford.edu/housenumbers/test_32x32.mat"
      ],
      "execution_count": 1,
      "outputs": [
        {
          "output_type": "stream",
          "text": [
            "Requirement already satisfied: torch in /usr/local/lib/python3.6/dist-packages (1.5.1+cu101)\n",
            "Requirement already satisfied: torchvision in /usr/local/lib/python3.6/dist-packages (0.6.1+cu101)\n",
            "Requirement already satisfied: future in /usr/local/lib/python3.6/dist-packages (from torch) (0.16.0)\n",
            "Requirement already satisfied: numpy in /usr/local/lib/python3.6/dist-packages (from torch) (1.18.5)\n",
            "Requirement already satisfied: pillow>=4.1.1 in /usr/local/lib/python3.6/dist-packages (from torchvision) (7.0.0)\n",
            "--2020-07-13 08:56:16--  http://ufldl.stanford.edu/housenumbers/train_32x32.mat\n",
            "Resolving ufldl.stanford.edu (ufldl.stanford.edu)... 171.64.68.10\n",
            "Connecting to ufldl.stanford.edu (ufldl.stanford.edu)|171.64.68.10|:80... connected.\n",
            "HTTP request sent, awaiting response... 200 OK\n",
            "Length: 182040794 (174M) [text/plain]\n",
            "Saving to: ‘train_32x32.mat’\n",
            "\n",
            "train_32x32.mat     100%[===================>] 173.61M  19.4MB/s    in 13s     \n",
            "\n",
            "2020-07-13 08:56:29 (13.3 MB/s) - ‘train_32x32.mat’ saved [182040794/182040794]\n",
            "\n",
            "--2020-07-13 08:56:29--  http://ufldl.stanford.edu/housenumbers/test_32x32.mat\n",
            "Reusing existing connection to ufldl.stanford.edu:80.\n",
            "HTTP request sent, awaiting response... 200 OK\n",
            "Length: 64275384 (61M) [text/plain]\n",
            "Saving to: ‘test_32x32.mat’\n",
            "\n",
            "test_32x32.mat      100%[===================>]  61.30M  14.4MB/s    in 4.3s    \n",
            "\n",
            "2020-07-13 08:56:34 (14.1 MB/s) - ‘test_32x32.mat’ saved [64275384/64275384]\n",
            "\n",
            "FINISHED --2020-07-13 08:56:34--\n",
            "Total wall clock time: 18s\n",
            "Downloaded: 2 files, 235M in 17s (13.5 MB/s)\n"
          ],
          "name": "stdout"
        }
      ]
    },
    {
      "cell_type": "code",
      "metadata": {
        "colab_type": "code",
        "id": "-afwWw-Q85vD",
        "colab": {}
      },
      "source": [
        "from collections import namedtuple\n",
        "\n",
        "import matplotlib.pyplot as plt\n",
        "import numpy as np\n",
        "import PIL\n",
        "import torch\n",
        "import torch.nn as nn\n",
        "import torch.optim as optim\n",
        "import torchvision.datasets as dset\n",
        "from torch.utils.data.sampler import SubsetRandomSampler\n",
        "\n",
        "from torchvision import transforms"
      ],
      "execution_count": null,
      "outputs": []
    },
    {
      "cell_type": "code",
      "metadata": {
        "colab_type": "code",
        "id": "NNU-OD9O9ltP",
        "colab": {}
      },
      "source": [
        "device = torch.device(\"cuda:0\") # Let's make sure GPU is available!"
      ],
      "execution_count": null,
      "outputs": []
    },
    {
      "cell_type": "markdown",
      "metadata": {
        "id": "mS35Tv7YBgON",
        "colab_type": "text"
      },
      "source": [
        "# Загружаем данные"
      ]
    },
    {
      "cell_type": "code",
      "metadata": {
        "colab_type": "code",
        "id": "YAvkoRx-9FsP",
        "colab": {}
      },
      "source": [
        "# First, lets load the dataset\n",
        "data_train = dset.SVHN('./', \n",
        "                       transform=transforms.Compose([\n",
        "                           transforms.ToTensor(),\n",
        "                           transforms.Normalize(mean=[0.43, 0.44, 0.47],\n",
        "                                                std=[0.20, 0.20, 0.20])]))\n",
        "data_test = dset.SVHN('./', split='test', transform=transforms.Compose([\n",
        "                           transforms.ToTensor(),\n",
        "                           transforms.Normalize(mean=[0.43, 0.44, 0.47],\n",
        "                                                std=[0.20, 0.20, 0.20])]))"
      ],
      "execution_count": null,
      "outputs": []
    },
    {
      "cell_type": "markdown",
      "metadata": {
        "id": "pFl-dxBlBgOU",
        "colab_type": "text"
      },
      "source": [
        "Разделяем данные на training и validation.\n",
        "\n",
        "На всякий случай для подробностей - https://pytorch.org/tutorials/beginner/data_loading_tutorial.html"
      ]
    },
    {
      "cell_type": "code",
      "metadata": {
        "colab_type": "code",
        "id": "YRnr8CPg7Hli",
        "colab": {}
      },
      "source": [
        "batch_size = 64\n",
        "\n",
        "data_size = data_train.data.shape[0]\n",
        "validation_split = .2\n",
        "split = int(np.floor(validation_split * data_size))\n",
        "indices = list(range(data_size))\n",
        "np.random.shuffle(indices)\n",
        "\n",
        "train_indices, val_indices = indices[split:], indices[:split]\n",
        "\n",
        "train_sampler = SubsetRandomSampler(train_indices)\n",
        "val_sampler = SubsetRandomSampler(val_indices)\n",
        "\n",
        "train_loader = torch.utils.data.DataLoader(data_train, batch_size=batch_size, \n",
        "                                           sampler=train_sampler)\n",
        "val_loader = torch.utils.data.DataLoader(data_train, batch_size=batch_size,\n",
        "                                         sampler=val_sampler)"
      ],
      "execution_count": null,
      "outputs": []
    },
    {
      "cell_type": "code",
      "metadata": {
        "colab_type": "code",
        "id": "LyYvt-T67PBG",
        "colab": {}
      },
      "source": [
        "# We'll use a special helper module to shape it into a flat tensor\n",
        "class Flattener(nn.Module):\n",
        "    def forward(self, x):\n",
        "        batch_size, *_ = x.shape\n",
        "        return x.view(batch_size, -1)"
      ],
      "execution_count": null,
      "outputs": []
    },
    {
      "cell_type": "markdown",
      "metadata": {
        "id": "vY3v2K3mBgOj",
        "colab_type": "text"
      },
      "source": [
        "Создадим простейшую сеть с новыми слоями:  \n",
        "Convolutional - `nn.Conv2d`  \n",
        "MaxPool - `nn.MaxPool2d`"
      ]
    },
    {
      "cell_type": "code",
      "metadata": {
        "colab_type": "code",
        "id": "w9SFVGZP7SQd",
        "colab": {}
      },
      "source": [
        "nn_model = nn.Sequential(\n",
        "            nn.Conv2d(3, 64, 3, padding=1),\n",
        "            nn.ReLU(inplace=True),\n",
        "            nn.MaxPool2d(4),\n",
        "            nn.Conv2d(64, 64, 3, padding=1),\n",
        "            nn.ReLU(inplace=True),\n",
        "            nn.MaxPool2d(4),    \n",
        "            Flattener(),\n",
        "            nn.Linear(64*2*2, 10),\n",
        "          )\n",
        "\n",
        "nn_model.type(torch.cuda.FloatTensor)\n",
        "nn_model.to(device)\n",
        "\n",
        "loss = nn.CrossEntropyLoss().type(torch.cuda.FloatTensor)\n",
        "optimizer = optim.SGD(nn_model.parameters(), lr=1e-1, weight_decay=1e-4)"
      ],
      "execution_count": null,
      "outputs": []
    },
    {
      "cell_type": "markdown",
      "metadata": {
        "id": "IrtM7HjlBgOo",
        "colab_type": "text"
      },
      "source": [
        "Восстановите функцию `compute_accuracy` из прошлого задания.  \n",
        "Единственное отличие в новом - она должна передать данные на GPU прежде чем прогонять через модель. Сделайте это так же, как это делает функция `train_model`"
      ]
    },
    {
      "cell_type": "code",
      "metadata": {
        "colab_type": "code",
        "id": "2ek3KVQK7hJ6",
        "colab": {
          "base_uri": "https://localhost:8080/",
          "height": 191
        },
        "outputId": "23ab59c7-755c-400f-ba44-93868aa854b8"
      },
      "source": [
        "def train_model(model, train_loader, val_loader, loss, optimizer, num_epochs):    \n",
        "    loss_history = []\n",
        "    train_history = []\n",
        "    val_history = []\n",
        "    for epoch in range(num_epochs):\n",
        "        print(f'-- Epoch {epoch}')\n",
        "        model.train() # Enter train mode\n",
        "        \n",
        "        loss_accum = 0\n",
        "        correct_samples = 0\n",
        "        total_samples = 0\n",
        "        for i_step, (x, y) in enumerate(train_loader):\n",
        "          \n",
        "            x_gpu = x.to(device)\n",
        "            y_gpu = y.to(device)\n",
        "            prediction = model(x_gpu)    \n",
        "            loss_value = loss(prediction, y_gpu)\n",
        "            optimizer.zero_grad()\n",
        "            loss_value.backward()\n",
        "            optimizer.step()\n",
        "            \n",
        "            _, indices = torch.max(prediction, 1)\n",
        "            correct_samples += torch.sum(indices == y_gpu)\n",
        "            total_samples += y.shape[0]\n",
        "            \n",
        "            loss_accum += loss_value\n",
        "\n",
        "        ave_loss = loss_accum / i_step\n",
        "        train_accuracy = float(correct_samples) / total_samples\n",
        "        val_accuracy = compute_accuracy(model, val_loader)\n",
        "        \n",
        "        loss_history.append(float(ave_loss))\n",
        "        train_history.append(train_accuracy)\n",
        "        val_history.append(val_accuracy)\n",
        "        \n",
        "        print(\"   Average loss: %f, Train accuracy: %f, Val accuracy: %f\" % (ave_loss, train_accuracy, val_accuracy))\n",
        "        \n",
        "    return loss_history, train_history, val_history\n",
        "        \n",
        "def compute_accuracy(model, loader):\n",
        "    \"\"\"\n",
        "    Computes accuracy on the dataset wrapped in a loader\n",
        "    \n",
        "    Returns: accuracy as a float value between 0 and 1\n",
        "    \"\"\"\n",
        "    model.eval() # Evaluation mode\n",
        "    # TODO: Copy implementation from previous assignment\n",
        "    # Don't forget to move the data to device before running it through the model!\n",
        "    \n",
        "    correct_samples = 0\n",
        "    total_samples = 0\n",
        "\n",
        "    for i_step, (x, y) in enumerate(loader):\n",
        "        x_gpu = x.to(device)\n",
        "        y_gpu = y.to(device)\n",
        "\n",
        "        prediction = model(x_gpu)\n",
        "        _, inds = torch.max(prediction, 1)\n",
        "\n",
        "        correct_samples += torch.sum(inds == y_gpu)\n",
        "        total_samples += y_gpu.shape[0]\n",
        "    \n",
        "    return float(correct_samples) / total_samples\n",
        "\n",
        "loss_history, train_history, val_history = train_model(nn_model, train_loader, val_loader, loss, optimizer, 5)"
      ],
      "execution_count": null,
      "outputs": [
        {
          "output_type": "stream",
          "text": [
            "-- Epoch 0\n",
            "   Average loss: 1.381345, Train accuracy: 0.536873, Val accuracy: 0.731691\n",
            "-- Epoch 1\n",
            "   Average loss: 0.691591, Train accuracy: 0.791523, Val accuracy: 0.821309\n",
            "-- Epoch 2\n",
            "   Average loss: 0.597934, Train accuracy: 0.822646, Val accuracy: 0.832912\n",
            "-- Epoch 3\n",
            "   Average loss: 0.549867, Train accuracy: 0.837696, Val accuracy: 0.834619\n",
            "-- Epoch 4\n",
            "   Average loss: 0.521073, Train accuracy: 0.845903, Val accuracy: 0.816122\n"
          ],
          "name": "stdout"
        }
      ]
    },
    {
      "cell_type": "markdown",
      "metadata": {
        "colab_type": "text",
        "id": "6a-3a1ZFGEw_"
      },
      "source": [
        "# Аугментация данных (Data augmentation)\n",
        "\n",
        "В работе с изображениями одним из особенно важных методов является аугментация данных - то есть, генерация дополнительных данных для тренировки на основе изначальных.   \n",
        "Таким образом, мы получаем возможность \"увеличить\" набор данных для тренировки, что ведет к лучшей работе сети.\n",
        "Важно, чтобы аугментированные данные были похожи на те, которые могут встретиться в реальной жизни, иначе польза от аугментаций уменьшается и может ухудшить работу сети.\n",
        "\n",
        "С PyTorch идут несколько таких алгоритмов, называемых `transforms`. Более подробно про них можно прочитать тут -\n",
        "https://pytorch.org/tutorials/beginner/data_loading_tutorial.html#transforms\n",
        "\n",
        "Ниже мы используем следующие алгоритмы генерации:\n",
        "- ColorJitter - случайное изменение цвета\n",
        "- RandomHorizontalFlip - горизонтальное отражение с вероятностью 50%\n",
        "- RandomVerticalFlip - вертикальное отражение с вероятностью 50%\n",
        "- RandomRotation - случайный поворот"
      ]
    },
    {
      "cell_type": "code",
      "metadata": {
        "colab_type": "code",
        "id": "jCWMUWmr7t5g",
        "colab": {}
      },
      "source": [
        "tfs = transforms.Compose([\n",
        "    transforms.ColorJitter(hue=.50, saturation=.50),\n",
        "    transforms.RandomHorizontalFlip(),\n",
        "    transforms.RandomVerticalFlip(),\n",
        "    transforms.RandomRotation(50, resample=PIL.Image.BILINEAR),\n",
        "    transforms.ToTensor(),\n",
        "    transforms.Normalize(mean=[0.43,0.44,0.47],\n",
        "                         std=[0.20,0.20,0.20])                           \n",
        "])\n",
        "\n",
        "# Create augmented train dataset\n",
        "data_aug_train = dset.SVHN('./', \n",
        "                       transform=tfs)\n",
        "\n",
        "train_aug_loader = torch.utils.data.DataLoader(data_aug_train, batch_size=batch_size, \n",
        "                                               sampler=train_sampler)"
      ],
      "execution_count": null,
      "outputs": []
    },
    {
      "cell_type": "markdown",
      "metadata": {
        "id": "Xs6nUdN4BgO1",
        "colab_type": "text"
      },
      "source": [
        "Визуализируем результаты агментации (вообще, смотреть на сгенерированные данные всегда очень полезно)."
      ]
    },
    {
      "cell_type": "code",
      "metadata": {
        "colab_type": "code",
        "id": "YlJJEro1KZ45",
        "colab": {
          "base_uri": "https://localhost:8080/",
          "height": 173
        },
        "outputId": "456e9258-d637-48ee-8dd4-93a298e2ea25"
      },
      "source": [
        "# TODO: Visualize some augmented images!\n",
        "# hint: you can create new datasets and loaders to accomplish this\n",
        "\n",
        "# Based on the visualizations, should we keep all the augmentations?\n",
        "\n",
        "tfs = transforms.Compose([\n",
        "    # transforms.ColorJitter(hue=.20, saturation=.30),\n",
        "    # transforms.RandomHorizontalFlip(),\n",
        "    # transforms.RandomVerticalFlip(),\n",
        "    transforms.RandomRotation(10, resample=PIL.Image.BILINEAR),\n",
        "])\n",
        "\n",
        "data_aug_vis = dset.SVHN('./', \n",
        "                       transform=tfs)\n",
        "\n",
        "plt.figure(figsize=(30, 3))\n",
        "\n",
        "for i, (x, y) in enumerate(data_aug_vis):\n",
        "    if i >= 0 and i < 10:\n",
        "      plt.subplot(1, 10, i + 1)\n",
        "      plt.grid(False)\n",
        "      plt.imshow(x)\n",
        "      plt.axis('off')\n",
        "\n",
        "    if i == 10:\n",
        "        break"
      ],
      "execution_count": null,
      "outputs": [
        {
          "output_type": "display_data",
          "data": {
            "image/png": "[encoded data removed]",
            "text/plain": [
              "<Figure size 2160x216 with 10 Axes>"
            ]
          },
          "metadata": {
            "tags": [],
            "needs_background": "light"
          }
        }
      ]
    },
    {
      "cell_type": "markdown",
      "metadata": {
        "colab_type": "text",
        "id": "o2LrmsYHoguB"
      },
      "source": [
        "Все ли агментации одинаково полезны на этом наборе данных? Могут ли быть среди них те, которые собьют модель с толку?\n",
        "\n",
        "Выберите из них только корректные"
      ]
    },
    {
      "cell_type": "code",
      "metadata": {
        "colab_type": "code",
        "id": "evro9ksXGs9u",
        "colab": {}
      },
      "source": [
        "# TODO: \n",
        "tfs = transforms.Compose([\n",
        "    # TODO: Add good augmentations\n",
        "    transforms.ColorJitter(hue=.20, saturation=.30),\n",
        "    transforms.RandomRotation(10, resample=PIL.Image.BILINEAR),\n",
        "    transforms.ToTensor(),\n",
        "    transforms.Normalize(mean=[0.43,0.44,0.47],\n",
        "                       std=[0.20,0.20,0.20])                           \n",
        "])\n",
        "\n",
        "# TODO create new instances of loaders with the augmentations you chose\n",
        "data_aut_train = dset.SVHN('./', transform=tfs)\n",
        "\n",
        "train_aug_loader = torch.utils.data.DataLoader(data_aug_train, batch_size=batch_size,\n",
        "                                               sampler=train_sampler)"
      ],
      "execution_count": null,
      "outputs": []
    },
    {
      "cell_type": "code",
      "metadata": {
        "colab_type": "code",
        "id": "PeO6Zw0DHqPR",
        "colab": {
          "base_uri": "https://localhost:8080/",
          "height": 191
        },
        "outputId": "94b55d32-50d8-4bf4-9aa8-1e60cab6b187"
      },
      "source": [
        "# Finally, let's train with augmentations!\n",
        "\n",
        "# Note we shouldn't use augmentations on validation\n",
        "\n",
        "loss_history, train_history, val_history = train_model(nn_model, train_aug_loader, val_loader, loss, optimizer, 5)"
      ],
      "execution_count": null,
      "outputs": [
        {
          "output_type": "stream",
          "text": [
            "-- Epoch 0\n",
            "   Average loss: 1.994605, Train accuracy: 0.293963, Val accuracy: 0.476828\n",
            "-- Epoch 1\n",
            "   Average loss: 1.718870, Train accuracy: 0.381531, Val accuracy: 0.478056\n",
            "-- Epoch 2\n",
            "   Average loss: 1.629027, Train accuracy: 0.414463, Val accuracy: 0.447137\n",
            "-- Epoch 3\n",
            "   Average loss: 1.578112, Train accuracy: 0.436013, Val accuracy: 0.503106\n",
            "-- Epoch 4\n",
            "   Average loss: 1.543494, Train accuracy: 0.451029, Val accuracy: 0.513003\n"
          ],
          "name": "stdout"
        }
      ]
    },
    {
      "cell_type": "markdown",
      "metadata": {
        "colab_type": "text",
        "id": "r0bcioK6JBDK"
      },
      "source": [
        "# LeNet\n",
        "Попробуем имплементировать классическую архитектуру сверточной нейронной сети, предложенную Яном ЛеКуном в 1998 году. В свое время она достигла впечатляющих результатов на MNIST, посмотрим как она справится с SVHN?\n",
        "Она описана в статье [\"Gradient Based Learning Applied to Document Recognition\"](http://yann.lecun.com/exdb/publis/pdf/lecun-01a.pdf), попробуйте прочитать ключевые части и имплементировать предложенную архитетуру на PyTorch.\n",
        "\n",
        "Реализовывать слои и функцию ошибки LeNet, которых нет в PyTorch, **не нужно** - просто возьмите их размеры и переведите в уже известные нам Convolutional, Pooling и Fully Connected layers.\n",
        "\n",
        "Если в статье не очень понятно, можно просто погуглить LeNet и разобраться в деталях :)"
      ]
    },
    {
      "cell_type": "code",
      "metadata": {
        "colab_type": "code",
        "id": "ieEzZUglJAUB",
        "colab": {}
      },
      "source": [
        "# TODO: Implement LeNet-like architecture for SVHN task\n",
        "lenet_model = nn.Sequential(\n",
        "    nn.Conv2d(3, 6, 5),\n",
        "    nn.ReLU(inplace=True),\n",
        "    nn.MaxPool2d(2),\n",
        "    nn.Conv2d(6, 16, 5),\n",
        "    nn.ReLU(inplace=True),\n",
        "    nn.MaxPool2d(2),\n",
        "    Flattener(),\n",
        "    nn.Linear(16*5*5, 120),\n",
        "    nn.ReLU(inplace=True),\n",
        "    nn.Linear(120, 84),\n",
        "    nn.ReLU(inplace=True),\n",
        "    nn.Linear(84, 10)\n",
        ")\n",
        "\n",
        "lenet_model.type(torch.cuda.FloatTensor)\n",
        "lenet_model.to(device)\n",
        "\n",
        "loss = nn.CrossEntropyLoss().type(torch.cuda.FloatTensor)\n",
        "optimizer = optim.SGD(lenet_model.parameters(), lr=1e-1, weight_decay=1e-4)"
      ],
      "execution_count": null,
      "outputs": []
    },
    {
      "cell_type": "code",
      "metadata": {
        "colab_type": "code",
        "id": "WMmaPfdeKk9H",
        "colab": {
          "base_uri": "https://localhost:8080/",
          "height": 364
        },
        "outputId": "580aab77-a587-4e21-92b4-3b5e341df685"
      },
      "source": [
        "# Let's train it!\n",
        "loss_history, train_history, val_history = train_model(lenet_model, train_aug_loader, val_loader, loss, optimizer, 10)"
      ],
      "execution_count": null,
      "outputs": [
        {
          "output_type": "stream",
          "text": [
            "-- Epoch 0\n",
            "   Average loss: 2.064756, Train accuracy: 0.256885, Val accuracy: 0.418948\n",
            "-- Epoch 1\n",
            "   Average loss: 1.473469, Train accuracy: 0.484200, Val accuracy: 0.587537\n",
            "-- Epoch 2\n",
            "   Average loss: 1.207869, Train accuracy: 0.586203, Val accuracy: 0.632585\n",
            "-- Epoch 3\n",
            "   Average loss: 1.096142, Train accuracy: 0.626403, Val accuracy: 0.643301\n",
            "-- Epoch 4\n",
            "   Average loss: 1.024352, Train accuracy: 0.652169, Val accuracy: 0.641526\n",
            "-- Epoch 5\n",
            "   Average loss: 0.986888, Train accuracy: 0.663413, Val accuracy: 0.684936\n",
            "-- Epoch 6\n",
            "   Average loss: 0.956163, Train accuracy: 0.673822, Val accuracy: 0.681455\n",
            "-- Epoch 7\n",
            "   Average loss: 0.935070, Train accuracy: 0.679521, Val accuracy: 0.693195\n",
            "-- Epoch 8\n",
            "   Average loss: 0.916723, Train accuracy: 0.686841, Val accuracy: 0.722681\n",
            "-- Epoch 9\n",
            "   Average loss: 0.894307, Train accuracy: 0.693274, Val accuracy: 0.718108\n"
          ],
          "name": "stdout"
        }
      ]
    },
    {
      "cell_type": "markdown",
      "metadata": {
        "colab_type": "text",
        "id": "u_O9qiYySvuj"
      },
      "source": [
        "# Подбор гиперпараметров"
      ]
    },
    {
      "cell_type": "code",
      "metadata": {
        "id": "b98HRqcWesCx",
        "colab_type": "code",
        "colab": {}
      },
      "source": [
        "def train_model(model, train_loader, val_loader, loss, optimizer, scheduler, num_epochs):    \n",
        "    loss_history = []\n",
        "    train_history = []\n",
        "    val_history = []\n",
        "\n",
        "    print('     Start train')\n",
        "    for epoch in range(num_epochs):\n",
        "        print(f'     Epoch {epoch}')\n",
        "        model.train() # Enter train mode\n",
        "        \n",
        "        loss_accum = 0\n",
        "        correct_samples = 0\n",
        "        total_samples = 0\n",
        "        for i_step, (x, y) in enumerate(train_loader):\n",
        "          \n",
        "            x_gpu = x.to(device)\n",
        "            y_gpu = y.to(device)\n",
        "            prediction = model(x_gpu)    \n",
        "            loss_value = loss(prediction, y_gpu)\n",
        "            optimizer.zero_grad()\n",
        "            loss_value.backward()\n",
        "            optimizer.step()\n",
        "            \n",
        "            _, indices = torch.max(prediction, 1)\n",
        "            correct_samples += torch.sum(indices == y_gpu)\n",
        "            total_samples += y.shape[0]\n",
        "            \n",
        "            loss_accum += loss_value\n",
        "\n",
        "        ave_loss = loss_accum / i_step\n",
        "        train_accuracy = float(correct_samples) / total_samples\n",
        "        val_accuracy = compute_accuracy(model, val_loader)\n",
        "        \n",
        "        loss_history.append(float(ave_loss))\n",
        "        train_history.append(train_accuracy)\n",
        "        val_history.append(val_accuracy)\n",
        "        scheduler.step()\n",
        "\n",
        "        print(\"     Average loss: %f, Train accuracy: %f, Val accuracy: %f\" % (ave_loss, train_accuracy, val_accuracy))\n",
        "\n",
        "        if (epoch >= 5) and (val_accuracy < 0.5):\n",
        "            print(f'     Warning! Small validation accuracy!!!')\n",
        "            break\n",
        "\n",
        "        if val_accuracy > 0.9:\n",
        "            print(f'     Yea!! Best validation accuracy!!!')\n",
        "            break\n",
        "\n",
        "    return loss_history, train_history, val_history\n",
        "        \n",
        "def compute_accuracy(model, loader):\n",
        "    \"\"\"\n",
        "    Computes accuracy on the dataset wrapped in a loader\n",
        "    \n",
        "    Returns: accuracy as a float value between 0 and 1\n",
        "    \"\"\"\n",
        "    model.eval() # Evaluation mode\n",
        "    # TODO: Copy implementation from previous assignment\n",
        "    # Don't forget to move the data to device before running it through the model!\n",
        "    \n",
        "    correct_samples = 0\n",
        "    total_samples = 0\n",
        "\n",
        "    for i_step, (x, y) in enumerate(loader):\n",
        "        x_gpu = x.to(device)\n",
        "        y_gpu = y.to(device)\n",
        "\n",
        "        prediction = model(x_gpu)\n",
        "        _, inds = torch.max(prediction, 1)\n",
        "\n",
        "        correct_samples += torch.sum(inds == y_gpu)\n",
        "        total_samples += y_gpu.shape[0]\n",
        "    \n",
        "    return float(correct_samples) / total_samples"
      ],
      "execution_count": null,
      "outputs": []
    },
    {
      "cell_type": "code",
      "metadata": {
        "colab_type": "code",
        "id": "i6mhfdQ9K-N3",
        "colab": {
          "base_uri": "https://localhost:8080/",
          "height": 1000
        },
        "outputId": "fe8a4e63-5bbe-4923-aa5a-d3e63aa89c7e"
      },
      "source": [
        "# The key hyperparameters we're going to tune are learning speed, annealing rate and regularization\n",
        "# We also encourage you to try different optimizers as well\n",
        "\n",
        "Hyperparams = namedtuple(\"Hyperparams\", ['learning_rate', 'anneal_epochs', 'reg', 'optims'])\n",
        "RunResult = namedtuple(\"RunResult\", ['model', 'train_history', 'val_history', 'final_val_accuracy'])\n",
        "\n",
        "learning_rates = [1e-1, 1e-2, 1e-3, 1e-4]\n",
        "anneal_coeff = 0.2\n",
        "anneal_epochs = [2, 5, 10]\n",
        "reg = [1e-3, 1e-4, 1e-5, 1e-7]\n",
        "optims = ['sgd', 'adam']\n",
        "\n",
        "def get_rand_params(learning_rates, anneal_epochs, reg, optims):\n",
        "    rand_lr = learning_rates[np.random.randint(low=0, high=len(learning_rates))]\n",
        "    rand_ann_epoch = anneal_epochs[np.random.randint(low=0, high=len(anneal_epochs))]\n",
        "    rand_reg = reg[np.random.randint(low=0, high=len(reg))]\n",
        "    rand_optim = optims[np.random.randint(low=0, high=len(optims))]\n",
        "\n",
        "    return rand_lr, rand_ann_epoch, rand_reg, rand_optim\n",
        "\n",
        "\n",
        "batch_size = 64\n",
        "epoch_num = 10\n",
        "\n",
        "# Record all the runs here\n",
        "# Key should be Hyperparams and values should be RunResult\n",
        "run_record = {} \n",
        "\n",
        "# Use grid search or random search and record all runs in run_record dictionnary \n",
        "# Important: perform search in logarithmic space!\n",
        "\n",
        "# TODO: Your code here!\n",
        "num_random_steps = 10\n",
        "\n",
        "for step in range(num_random_steps):\n",
        "    print('----------------')\n",
        "    print(f'-- Step {step}')\n",
        "\n",
        "    rand_lr, rand_ann_epoch, rand_reg, rand_optim = get_rand_params(learning_rates, anneal_epochs, reg, optims)\n",
        "\n",
        "    while Hyperparams(rand_lr, rand_ann_epoch, rand_reg, rand_optim) in run_record:\n",
        "        rand_lr, rand_ann_epoch, rand_reg, rand_optim = get_rand_params(learning_rates, anneal_epochs, reg, optims)\n",
        "\n",
        "    print(f'   lr={rand_lr}, ann_epoch={rand_ann_epoch}, reg={rand_reg}, optim={rand_optim}')\n",
        "\n",
        "    lenet_model = nn.Sequential(\n",
        "        nn.Conv2d(3, 6, 5),\n",
        "        nn.ReLU(inplace=True),\n",
        "        nn.MaxPool2d(2),\n",
        "        nn.Conv2d(6, 16, 5),\n",
        "        nn.ReLU(inplace=True),\n",
        "        nn.MaxPool2d(2),\n",
        "        Flattener(),\n",
        "        nn.Linear(16*5*5, 120),\n",
        "        nn.ReLU(inplace=True),\n",
        "        nn.Linear(120, 84),\n",
        "        nn.ReLU(inplace=True),\n",
        "        nn.Linear(84, 10)\n",
        "    )\n",
        "\n",
        "    lenet_model.type(torch.cuda.FloatTensor)\n",
        "    lenet_model.to(device)\n",
        "\n",
        "    loss = nn.CrossEntropyLoss().type(torch.cuda.FloatTensor)\n",
        "    if rand_optim == 'sgd':\n",
        "      optimizer = optim.SGD(lenet_model.parameters(), lr=rand_lr, weight_decay=rand_reg)\n",
        "    elif rand_optim == 'adam':\n",
        "      optimizer = optim.Adam(lenet_model.parameters(), lr=rand_lr, weight_decay=rand_reg)\n",
        "\n",
        "    lambda1 = lambda epoch: anneal_coeff ** (epoch // rand_ann_epoch)\n",
        "    scheduler = optim.lr_scheduler.LambdaLR(optimizer, lr_lambda=[lambda1])\n",
        "\n",
        "    loss_history, train_history, val_history = train_model(lenet_model, train_aug_loader, val_loader, loss, optimizer, scheduler, epoch_num)\n",
        "\n",
        "    run_record[Hyperparams(rand_lr, rand_ann_epoch,\n",
        "                          rand_reg, rand_optim)] = RunResult(lenet_model, train_history, val_history, val_history[-1])"
      ],
      "execution_count": null,
      "outputs": [
        {
          "output_type": "stream",
          "text": [
            "----------------\n",
            "-- Step 0\n",
            "   lr=0.001, ann_epoch=5, reg=0.001, optim=adam\n",
            "     Start train\n",
            "     Epoch 0\n",
            "     Average loss: 1.880604, Train accuracy: 0.325291, Val accuracy: 0.472323\n",
            "     Epoch 1\n",
            "     Average loss: 1.381641, Train accuracy: 0.520493, Val accuracy: 0.570951\n",
            "     Epoch 2\n",
            "     Average loss: 1.239599, Train accuracy: 0.571273, Val accuracy: 0.597297\n",
            "     Epoch 3\n",
            "     Average loss: 1.165584, Train accuracy: 0.597857, Val accuracy: 0.598389\n",
            "     Epoch 4\n",
            "     Average loss: 1.104670, Train accuracy: 0.618913, Val accuracy: 0.629718\n",
            "     Epoch 5\n",
            "     Average loss: 1.024078, Train accuracy: 0.648944, Val accuracy: 0.652515\n",
            "     Epoch 6\n",
            "     Average loss: 0.995689, Train accuracy: 0.657117, Val accuracy: 0.666507\n",
            "     Epoch 7\n",
            "     Average loss: 0.983949, Train accuracy: 0.660291, Val accuracy: 0.659204\n",
            "     Epoch 8\n",
            "     Average loss: 0.973102, Train accuracy: 0.665700, Val accuracy: 0.661320\n",
            "     Epoch 9\n",
            "     Average loss: 0.964512, Train accuracy: 0.666229, Val accuracy: 0.663572\n",
            "----------------\n",
            "-- Step 1\n",
            "   lr=0.01, ann_epoch=2, reg=1e-05, optim=sgd\n",
            "     Start train\n",
            "     Epoch 0\n",
            "     Average loss: 2.247027, Train accuracy: 0.188445, Val accuracy: 0.191113\n",
            "     Epoch 1\n",
            "     Average loss: 2.236494, Train accuracy: 0.188735, Val accuracy: 0.191113\n",
            "     Epoch 2\n",
            "     Average loss: 2.234154, Train accuracy: 0.188735, Val accuracy: 0.191113\n",
            "     Epoch 3\n",
            "     Average loss: 2.233088, Train accuracy: 0.188735, Val accuracy: 0.191113\n",
            "     Epoch 4\n",
            "     Average loss: 2.232198, Train accuracy: 0.188735, Val accuracy: 0.191113\n",
            "     Epoch 5\n",
            "     Average loss: 2.231822, Train accuracy: 0.188735, Val accuracy: 0.191113\n",
            "     Warning! Small validation accuracy!!!\n",
            "----------------\n",
            "-- Step 2\n",
            "   lr=0.1, ann_epoch=10, reg=0.001, optim=adam\n",
            "     Start train\n",
            "     Epoch 0\n",
            "     Average loss: 10.374805, Train accuracy: 0.181739, Val accuracy: 0.191113\n",
            "     Epoch 1\n",
            "     Average loss: 2.247943, Train accuracy: 0.184179, Val accuracy: 0.191113\n",
            "     Epoch 2\n",
            "     Average loss: 2.791075, Train accuracy: 0.184845, Val accuracy: 0.191113\n",
            "     Epoch 3\n",
            "     Average loss: 2.273715, Train accuracy: 0.184230, Val accuracy: 0.141287\n",
            "     Epoch 4\n",
            "     Average loss: 2.248001, Train accuracy: 0.184845, Val accuracy: 0.191113\n",
            "     Epoch 5\n",
            "     Average loss: 2.252886, Train accuracy: 0.184230, Val accuracy: 0.191113\n",
            "     Warning! Small validation accuracy!!!\n",
            "----------------\n",
            "-- Step 3\n",
            "   lr=0.0001, ann_epoch=10, reg=1e-05, optim=sgd\n",
            "     Start train\n",
            "     Epoch 0\n",
            "     Average loss: 2.307607, Train accuracy: 0.063304, Val accuracy: 0.064364\n",
            "     Epoch 1\n",
            "     Average loss: 2.305350, Train accuracy: 0.066904, Val accuracy: 0.072828\n",
            "     Epoch 2\n",
            "     Average loss: 2.303170, Train accuracy: 0.079804, Val accuracy: 0.098014\n",
            "     Epoch 3\n",
            "     Average loss: 2.301018, Train accuracy: 0.107327, Val accuracy: 0.124770\n",
            "     Epoch 4\n",
            "     Average loss: 2.299024, Train accuracy: 0.129492, Val accuracy: 0.134189\n",
            "     Epoch 5\n",
            "     Average loss: 2.297040, Train accuracy: 0.139030, Val accuracy: 0.138352\n",
            "     Warning! Small validation accuracy!!!\n",
            "----------------\n",
            "-- Step 4\n",
            "   lr=0.1, ann_epoch=2, reg=1e-05, optim=adam\n",
            "     Start train\n",
            "     Epoch 0\n",
            "     Average loss: 5.977119, Train accuracy: 0.186124, Val accuracy: 0.191113\n",
            "     Epoch 1\n",
            "     Average loss: 2.247085, Train accuracy: 0.185885, Val accuracy: 0.141287\n",
            "     Epoch 2\n",
            "     Average loss: 2.241014, Train accuracy: 0.188104, Val accuracy: 0.191113\n",
            "     Epoch 3\n",
            "     Average loss: 2.240770, Train accuracy: 0.188735, Val accuracy: 0.191113\n",
            "     Epoch 4\n",
            "     Average loss: 2.239422, Train accuracy: 0.188735, Val accuracy: 0.191113\n",
            "     Epoch 5\n",
            "     Average loss: 2.239155, Train accuracy: 0.188735, Val accuracy: 0.191113\n",
            "     Warning! Small validation accuracy!!!\n",
            "----------------\n",
            "-- Step 5\n",
            "   lr=0.1, ann_epoch=2, reg=0.0001, optim=adam\n",
            "     Start train\n",
            "     Epoch 0\n",
            "     Average loss: 6.692487, Train accuracy: 0.183838, Val accuracy: 0.191113\n",
            "     Epoch 1\n",
            "     Average loss: 2.257326, Train accuracy: 0.185749, Val accuracy: 0.191113\n",
            "     Epoch 2\n",
            "     Average loss: 2.240782, Train accuracy: 0.188735, Val accuracy: 0.191113\n",
            "     Epoch 3\n",
            "     Average loss: 2.240671, Train accuracy: 0.188342, Val accuracy: 0.191113\n",
            "     Epoch 4\n",
            "     Average loss: 2.239269, Train accuracy: 0.188735, Val accuracy: 0.191113\n",
            "     Epoch 5\n",
            "     Average loss: 2.239228, Train accuracy: 0.188735, Val accuracy: 0.191113\n",
            "     Warning! Small validation accuracy!!!\n",
            "----------------\n",
            "-- Step 6\n",
            "   lr=0.0001, ann_epoch=2, reg=1e-07, optim=adam\n",
            "     Start train\n",
            "     Epoch 0\n",
            "     Average loss: 2.231311, Train accuracy: 0.191482, Val accuracy: 0.214183\n",
            "     Epoch 1\n",
            "     Average loss: 2.010544, Train accuracy: 0.282070, Val accuracy: 0.361477\n",
            "     Epoch 2\n",
            "     Average loss: 1.859053, Train accuracy: 0.337952, Val accuracy: 0.382431\n",
            "     Epoch 3\n",
            "     Average loss: 1.833742, Train accuracy: 0.350561, Val accuracy: 0.389939\n",
            "     Epoch 4\n",
            "     Average loss: 1.813417, Train accuracy: 0.359741, Val accuracy: 0.393762\n",
            "     Epoch 5\n",
            "     Average loss: 1.809931, Train accuracy: 0.362386, Val accuracy: 0.394239\n",
            "     Warning! Small validation accuracy!!!\n",
            "----------------\n",
            "-- Step 7\n",
            "   lr=0.001, ann_epoch=10, reg=0.0001, optim=sgd\n",
            "     Start train\n",
            "     Epoch 0\n",
            "     Average loss: 2.287857, Train accuracy: 0.175511, Val accuracy: 0.191113\n",
            "     Epoch 1\n",
            "     Average loss: 2.272557, Train accuracy: 0.188735, Val accuracy: 0.191113\n",
            "     Epoch 2\n",
            "     Average loss: 2.259128, Train accuracy: 0.188735, Val accuracy: 0.191113\n",
            "     Epoch 3\n",
            "     Average loss: 2.248352, Train accuracy: 0.188735, Val accuracy: 0.191113\n",
            "     Epoch 4\n",
            "     Average loss: 2.242865, Train accuracy: 0.188735, Val accuracy: 0.191113\n",
            "     Epoch 5\n",
            "     Average loss: 2.240747, Train accuracy: 0.188735, Val accuracy: 0.191113\n",
            "     Warning! Small validation accuracy!!!\n",
            "----------------\n",
            "-- Step 8\n",
            "   lr=0.01, ann_epoch=10, reg=1e-05, optim=adam\n",
            "     Start train\n",
            "     Epoch 0\n",
            "     Average loss: 2.243232, Train accuracy: 0.187336, Val accuracy: 0.191113\n",
            "     Epoch 1\n",
            "     Average loss: 2.239910, Train accuracy: 0.188735, Val accuracy: 0.191113\n",
            "     Epoch 2\n",
            "     Average loss: 2.239770, Train accuracy: 0.188735, Val accuracy: 0.191113\n",
            "     Epoch 3\n",
            "     Average loss: 2.239763, Train accuracy: 0.188735, Val accuracy: 0.191113\n",
            "     Epoch 4\n",
            "     Average loss: 2.239765, Train accuracy: 0.188735, Val accuracy: 0.191113\n",
            "     Epoch 5\n",
            "     Average loss: 2.239738, Train accuracy: 0.188735, Val accuracy: 0.191113\n",
            "     Warning! Small validation accuracy!!!\n",
            "----------------\n",
            "-- Step 9\n",
            "   lr=0.0001, ann_epoch=5, reg=0.001, optim=adam\n",
            "     Start train\n",
            "     Epoch 0\n",
            "     Average loss: 2.239637, Train accuracy: 0.188735, Val accuracy: 0.191113\n",
            "     Epoch 1\n",
            "     Average loss: 2.116509, Train accuracy: 0.239873, Val accuracy: 0.317999\n",
            "     Epoch 2\n",
            "     Average loss: 1.920962, Train accuracy: 0.322851, Val accuracy: 0.375742\n",
            "     Epoch 3\n",
            "     Average loss: 1.819750, Train accuracy: 0.364007, Val accuracy: 0.411508\n",
            "     Epoch 4\n",
            "     Average loss: 1.753204, Train accuracy: 0.390779, Val accuracy: 0.426865\n",
            "     Epoch 5\n",
            "     Average loss: 1.707913, Train accuracy: 0.410538, Val accuracy: 0.441745\n",
            "     Warning! Small validation accuracy!!!\n"
          ],
          "name": "stdout"
        }
      ]
    },
    {
      "cell_type": "code",
      "metadata": {
        "colab_type": "code",
        "id": "Y6xExdw8JB1l",
        "colab": {
          "base_uri": "https://localhost:8080/",
          "height": 34
        },
        "outputId": "983d1204-dd41-4a31-b026-1cd30e5ecc43"
      },
      "source": [
        "best_val_accuracy = None\n",
        "best_hyperparams = None\n",
        "best_run = None\n",
        "\n",
        "for hyperparams, run_result in run_record.items():\n",
        "    if best_val_accuracy is None or best_val_accuracy < run_result.final_val_accuracy:\n",
        "        best_val_accuracy = run_result.final_val_accuracy\n",
        "        best_hyperparams = hyperparams\n",
        "        best_run = run_result\n",
        "        \n",
        "print(\"Best validation accuracy: %4.2f, best hyperparams: %s\" % (best_val_accuracy, best_hyperparams))\n",
        "        "
      ],
      "execution_count": null,
      "outputs": [
        {
          "output_type": "stream",
          "text": [
            "Best validation accuracy: 0.66, best hyperparams: Hyperparams(learning_rate=0.001, anneal_epochs=5, reg=0.001, optims='adam')\n"
          ],
          "name": "stdout"
        }
      ]
    },
    {
      "cell_type": "markdown",
      "metadata": {
        "colab_type": "text",
        "id": "LOmsR0uVgtgf"
      },
      "source": [
        "# Свободное упражнение - догоним и перегоним LeNet!\n",
        "\n",
        "Попробуйте найти архитектуру и настройки тренировки, чтобы выступить лучше наших бейзлайнов.\n",
        "\n",
        "Что можно и нужно попробовать:\n",
        "- BatchNormalization (для convolution layers он в PyTorch называется [batchnorm2d](https://pytorch.org/docs/stable/nn.html#batchnorm2d))\n",
        "- Изменить количество слоев и их толщину\n",
        "- Изменять количество эпох тренировки\n",
        "- Попробовать и другие агментации"
      ]
    },
    {
      "cell_type": "code",
      "metadata": {
        "id": "yfPnt5hraOkg",
        "colab_type": "code",
        "colab": {}
      },
      "source": [
        "from collections import namedtuple\n",
        "\n",
        "import matplotlib.pyplot as plt\n",
        "import numpy as np\n",
        "import PIL\n",
        "import torch\n",
        "import torch.nn as nn\n",
        "import torch.optim as optim\n",
        "import torchvision.datasets as dset\n",
        "from torch.utils.data.sampler import SubsetRandomSampler\n",
        "\n",
        "from torchvision import transforms"
      ],
      "execution_count": 24,
      "outputs": []
    },
    {
      "cell_type": "code",
      "metadata": {
        "id": "TF-_1YoxaOcO",
        "colab_type": "code",
        "colab": {}
      },
      "source": [
        "device = torch.device(\"cuda:0\") # Let's make sure GPU is available!"
      ],
      "execution_count": 25,
      "outputs": []
    },
    {
      "cell_type": "code",
      "metadata": {
        "id": "FtViwWj5aTUk",
        "colab_type": "code",
        "colab": {}
      },
      "source": [
        "# First, lets load the dataset\n",
        "data_train = dset.SVHN('./', \n",
        "                       transform=transforms.Compose([\n",
        "                           transforms.ToTensor(),\n",
        "                           transforms.Normalize(mean=[0.43, 0.44, 0.47],\n",
        "                                                std=[0.20, 0.20, 0.20])]))\n",
        "data_test = dset.SVHN('./', split='test', transform=transforms.Compose([\n",
        "                           transforms.ToTensor(),\n",
        "                           transforms.Normalize(mean=[0.43, 0.44, 0.47],\n",
        "                                                std=[0.20, 0.20, 0.20])]))"
      ],
      "execution_count": 26,
      "outputs": []
    },
    {
      "cell_type": "code",
      "metadata": {
        "id": "oiAIKDIeaTMk",
        "colab_type": "code",
        "colab": {}
      },
      "source": [
        "batch_size = 64\n",
        "\n",
        "data_size = data_train.data.shape[0]\n",
        "validation_split = .2\n",
        "split = int(np.floor(validation_split * data_size))\n",
        "indices = list(range(data_size))\n",
        "np.random.shuffle(indices)\n",
        "\n",
        "train_indices, val_indices = indices[split:], indices[:split]\n",
        "\n",
        "train_sampler = SubsetRandomSampler(train_indices)\n",
        "val_sampler = SubsetRandomSampler(val_indices)\n",
        "\n",
        "train_loader = torch.utils.data.DataLoader(data_train, batch_size=batch_size, \n",
        "                                           sampler=train_sampler)\n",
        "val_loader = torch.utils.data.DataLoader(data_train, batch_size=batch_size,\n",
        "                                         sampler=val_sampler)"
      ],
      "execution_count": 27,
      "outputs": []
    },
    {
      "cell_type": "code",
      "metadata": {
        "id": "MiBtM_euaTG1",
        "colab_type": "code",
        "colab": {}
      },
      "source": [
        "# We'll use a special helper module to shape it into a flat tensor\n",
        "class Flattener(nn.Module):\n",
        "    def forward(self, x):\n",
        "        batch_size, *_ = x.shape\n",
        "        return x.view(batch_size, -1)"
      ],
      "execution_count": 28,
      "outputs": []
    },
    {
      "cell_type": "code",
      "metadata": {
        "id": "DjXrfEVQaONw",
        "colab_type": "code",
        "colab": {}
      },
      "source": [
        "# TODO: \n",
        "tfs = transforms.Compose([\n",
        "    # TODO: Add good augmentations\n",
        "    transforms.ColorJitter(hue=.20, saturation=.30),\n",
        "    transforms.RandomRotation(30, resample=PIL.Image.BILINEAR),\n",
        "    transforms.ToTensor(),\n",
        "    transforms.Normalize(mean=[0.43,0.44,0.47],\n",
        "                         std=[0.20,0.20,0.20])                           \n",
        "])\n",
        "\n",
        "# TODO create new instances of loaders with the augmentations you chose\n",
        "data_aug_train = dset.SVHN('./', transform=tfs)\n",
        "\n",
        "train_aug_loader = torch.utils.data.DataLoader(data_aug_train, batch_size=batch_size,\n",
        "                                               sampler=train_sampler)"
      ],
      "execution_count": 29,
      "outputs": []
    },
    {
      "cell_type": "code",
      "metadata": {
        "id": "aRBl2R_TZBby",
        "colab_type": "code",
        "colab": {}
      },
      "source": [
        "def train_model(model, train_loader, val_loader, loss, optimizer, scheduler, num_epochs):    \n",
        "    loss_history = []\n",
        "    train_history = []\n",
        "    val_history = []\n",
        "\n",
        "    print('     Start train')\n",
        "    for epoch in range(num_epochs):\n",
        "        print(f'     Epoch {epoch}')\n",
        "        model.train() # Enter train mode\n",
        "        \n",
        "        loss_accum = 0\n",
        "        correct_samples = 0\n",
        "        total_samples = 0\n",
        "        for i_step, (x, y) in enumerate(train_loader):\n",
        "          \n",
        "            x_gpu = x.to(device)\n",
        "            y_gpu = y.to(device)\n",
        "            prediction = model(x_gpu)    \n",
        "            loss_value = loss(prediction, y_gpu)\n",
        "            optimizer.zero_grad()\n",
        "            loss_value.backward()\n",
        "            optimizer.step()\n",
        "            \n",
        "            _, indices = torch.max(prediction, 1)\n",
        "            correct_samples += torch.sum(indices == y_gpu)\n",
        "            total_samples += y.shape[0]\n",
        "            \n",
        "            loss_accum += loss_value\n",
        "\n",
        "        ave_loss = loss_accum / i_step\n",
        "        train_accuracy = float(correct_samples) / total_samples\n",
        "        val_accuracy = compute_accuracy(model, val_loader)\n",
        "        \n",
        "        loss_history.append(float(ave_loss))\n",
        "        train_history.append(train_accuracy)\n",
        "        val_history.append(val_accuracy)\n",
        "        scheduler.step()\n",
        "\n",
        "        print(\"     Average loss: %f, Train accuracy: %f, Val accuracy: %f\" % (ave_loss, train_accuracy, val_accuracy))\n",
        "\n",
        "        if (epoch >= 4) and (val_accuracy < 0.5):\n",
        "            print(f'     Warning! Small validation accuracy!!!')\n",
        "            break\n",
        "\n",
        "    return loss_history, train_history, val_history\n",
        "        \n",
        "def compute_accuracy(model, loader):\n",
        "    \"\"\"\n",
        "    Computes accuracy on the dataset wrapped in a loader\n",
        "    \n",
        "    Returns: accuracy as a float value between 0 and 1\n",
        "    \"\"\"\n",
        "    model.eval() # Evaluation mode\n",
        "    # TODO: Copy implementation from previous assignment\n",
        "    # Don't forget to move the data to device before running it through the model!\n",
        "    \n",
        "    correct_samples = 0\n",
        "    total_samples = 0\n",
        "\n",
        "    for i_step, (x, y) in enumerate(loader):\n",
        "        x_gpu = x.to(device)\n",
        "        y_gpu = y.to(device)\n",
        "\n",
        "        prediction = model(x_gpu)\n",
        "        _, inds = torch.max(prediction, 1)\n",
        "\n",
        "        correct_samples += torch.sum(inds == y_gpu)\n",
        "        total_samples += y_gpu.shape[0]\n",
        "    \n",
        "    return float(correct_samples) / total_samples"
      ],
      "execution_count": 30,
      "outputs": []
    },
    {
      "cell_type": "code",
      "metadata": {
        "id": "rj4yIS_OZBH9",
        "colab_type": "code",
        "colab": {
          "base_uri": "https://localhost:8080/",
          "height": 1000
        },
        "outputId": "8d96e32d-02b9-4f97-958c-63b78dd46bcb"
      },
      "source": [
        "# The key hyperparameters we're going to tune are learning speed, annealing rate and regularization\n",
        "# We also encourage you to try different optimizers as well\n",
        "\n",
        "Hyperparams = namedtuple(\"Hyperparams\", ['learning_rate', 'anneal_epochs', 'reg'])\n",
        "RunResult = namedtuple(\"RunResult\", ['model', 'train_history', 'val_history', 'final_val_accuracy'])\n",
        "\n",
        "learning_rates = [1e-1, 1e-2, 1e-3, 1e-4]\n",
        "anneal_coeff = 0.2\n",
        "anneal_epochs = [5, 10]\n",
        "reg = [1e-3, 1e-4]\n",
        "optims = 'adam'\n",
        "\n",
        "def get_rand_params(learning_rates, anneal_epochs, reg):\n",
        "    rand_lr = learning_rates[np.random.randint(low=0, high=len(learning_rates))]\n",
        "    rand_ann_epoch = anneal_epochs[np.random.randint(low=0, high=len(anneal_epochs))]\n",
        "    rand_reg = reg[np.random.randint(low=0, high=len(reg))]\n",
        "\n",
        "    return rand_lr, rand_ann_epoch, rand_reg\n",
        "\n",
        "\n",
        "batch_size = 64\n",
        "epoch_num = 15\n",
        "\n",
        "# Record all the runs here\n",
        "# Key should be Hyperparams and values should be RunResult\n",
        "run_record = {}\n",
        "\n",
        "# Use grid search or random search and record all runs in run_record dictionnary \n",
        "# Important: perform search in logarithmic space!\n",
        "\n",
        "# TODO: Your code here!\n",
        "num_random_steps = 6\n",
        "\n",
        "for step in range(num_random_steps):\n",
        "    print('----------------')\n",
        "    print(f'-- Step {step}')\n",
        "\n",
        "    rand_lr, rand_ann_epoch, rand_reg = get_rand_params(learning_rates, anneal_epochs, reg)\n",
        "\n",
        "    while Hyperparams(rand_lr, rand_ann_epoch, rand_reg) in run_record:\n",
        "        rand_lr, rand_ann_epoch, rand_reg = get_rand_params(learning_rates, anneal_epochs, reg)\n",
        "\n",
        "    print(f'   lr={rand_lr}, ann_epoch={rand_ann_epoch}, reg={rand_reg}')\n",
        "\n",
        "    final_model = nn.Sequential(\n",
        "        # (batch_size, 3, 32, 32)\n",
        "        nn.Conv2d(3, 16, 5),\n",
        "        nn.ReLU(inplace=True),\n",
        "        nn.BatchNorm2d(16),\n",
        "        nn.MaxPool2d(2),\n",
        "        # (barch_size, 16, 14, 14)\n",
        "        nn.Conv2d(16, 32, 5, padding=2),\n",
        "        nn.ReLU(inplace=True),\n",
        "        nn.BatchNorm2d(32),\n",
        "        # (batch_size, 32, 14, 14)\n",
        "        nn.Conv2d(32, 32, 5),\n",
        "        nn.ReLU(inplace=True),\n",
        "        nn.BatchNorm2d(32),\n",
        "        nn.MaxPool2d(2),\n",
        "        # (batch_size, 32, 5, 5)\n",
        "        Flattener(),\n",
        "        nn.Linear(32*5*5, 256),\n",
        "        nn.ReLU(inplace=True),\n",
        "        nn.Linear(256, 128),\n",
        "        nn.ReLU(inplace=True),\n",
        "        nn.Linear(128, 10)\n",
        "    )\n",
        "\n",
        "    final_model.type(torch.cuda.FloatTensor)\n",
        "    final_model.to(device)\n",
        "\n",
        "    loss = nn.CrossEntropyLoss().type(torch.cuda.FloatTensor)\n",
        "    optimizer = optim.Adam(final_model.parameters(), lr=rand_lr, weight_decay=rand_reg)\n",
        "\n",
        "    lambda1 = lambda epoch: anneal_coeff ** (epoch // rand_ann_epoch)\n",
        "    scheduler = optim.lr_scheduler.LambdaLR(optimizer, lr_lambda=[lambda1])\n",
        "\n",
        "    loss_history, train_history, val_history = train_model(final_model, train_aug_loader, val_loader, loss, optimizer, scheduler, epoch_num)\n",
        "\n",
        "    run_record[Hyperparams(rand_lr, rand_ann_epoch, rand_reg)] = RunResult(lenet_model, train_history, val_history, val_history[-1])"
      ],
      "execution_count": 31,
      "outputs": [
        {
          "output_type": "stream",
          "text": [
            "----------------\n",
            "-- Step 0\n",
            "   lr=0.0001, ann_epoch=5, reg=0.0001\n",
            "     Start train\n",
            "     Epoch 0\n",
            "     Average loss: 1.194338, Train accuracy: 0.608436, Val accuracy: 0.816122\n",
            "     Epoch 1\n",
            "     Average loss: 0.630233, Train accuracy: 0.803894, Val accuracy: 0.851682\n",
            "     Epoch 2\n",
            "     Average loss: 0.520272, Train accuracy: 0.840614, Val accuracy: 0.871408\n",
            "     Epoch 3\n",
            "     Average loss: 0.452581, Train accuracy: 0.860577, Val accuracy: 0.884650\n",
            "     Epoch 4\n",
            "     Average loss: 0.412083, Train accuracy: 0.873511, Val accuracy: 0.889837\n",
            "     Epoch 5\n",
            "     Average loss: 0.364607, Train accuracy: 0.889824, Val accuracy: 0.896116\n",
            "     Epoch 6\n",
            "     Average loss: 0.350159, Train accuracy: 0.893475, Val accuracy: 0.897481\n",
            "     Epoch 7\n",
            "     Average loss: 0.344452, Train accuracy: 0.895454, Val accuracy: 0.898300\n",
            "     Epoch 8\n",
            "     Average loss: 0.338338, Train accuracy: 0.897178, Val accuracy: 0.901031\n",
            "     Epoch 9\n",
            "     Average loss: 0.331440, Train accuracy: 0.899191, Val accuracy: 0.900143\n",
            "     Epoch 10\n",
            "     Average loss: 0.324296, Train accuracy: 0.902570, Val accuracy: 0.902464\n",
            "     Epoch 11\n",
            "     Average loss: 0.320139, Train accuracy: 0.903491, Val accuracy: 0.902532\n",
            "     Epoch 12\n",
            "     Average loss: 0.321163, Train accuracy: 0.902638, Val accuracy: 0.901918\n",
            "     Epoch 13\n",
            "     Average loss: 0.318062, Train accuracy: 0.904037, Val accuracy: 0.903351\n",
            "     Epoch 14\n",
            "     Average loss: 0.316850, Train accuracy: 0.904549, Val accuracy: 0.903078\n",
            "----------------\n",
            "-- Step 1\n",
            "   lr=0.1, ann_epoch=5, reg=0.001\n",
            "     Start train\n",
            "     Epoch 0\n",
            "     Average loss: 3.069402, Train accuracy: 0.179521, Val accuracy: 0.195686\n",
            "     Epoch 1\n",
            "     Average loss: 4.870363, Train accuracy: 0.181756, Val accuracy: 0.195686\n",
            "     Epoch 2\n",
            "     Average loss: 40.935253, Train accuracy: 0.179436, Val accuracy: 0.195686\n",
            "     Epoch 3\n",
            "     Average loss: 7.221363, Train accuracy: 0.184111, Val accuracy: 0.195686\n",
            "     Epoch 4\n",
            "     Average loss: 2.729796, Train accuracy: 0.183667, Val accuracy: 0.195686\n",
            "     Warning! Small validation accuracy!!!\n",
            "----------------\n",
            "-- Step 2\n",
            "   lr=0.0001, ann_epoch=5, reg=0.001\n",
            "     Start train\n",
            "     Epoch 0\n",
            "     Average loss: 1.152671, Train accuracy: 0.622888, Val accuracy: 0.826565\n",
            "     Epoch 1\n",
            "     Average loss: 0.598274, Train accuracy: 0.814524, Val accuracy: 0.861648\n",
            "     Epoch 2\n",
            "     Average loss: 0.494042, Train accuracy: 0.848394, Val accuracy: 0.873729\n",
            "     Epoch 3\n",
            "     Average loss: 0.437117, Train accuracy: 0.866055, Val accuracy: 0.887857\n",
            "     Epoch 4\n",
            "     Average loss: 0.397231, Train accuracy: 0.877999, Val accuracy: 0.894546\n",
            "     Epoch 5\n",
            "     Average loss: 0.348950, Train accuracy: 0.893936, Val accuracy: 0.903897\n",
            "     Epoch 6\n",
            "     Average loss: 0.339817, Train accuracy: 0.896325, Val accuracy: 0.905262\n",
            "     Epoch 7\n",
            "     Average loss: 0.332828, Train accuracy: 0.900061, Val accuracy: 0.905194\n",
            "     Epoch 8\n",
            "     Average loss: 0.328320, Train accuracy: 0.901188, Val accuracy: 0.907447\n",
            "     Epoch 9\n",
            "     Average loss: 0.319693, Train accuracy: 0.903286, Val accuracy: 0.908061\n",
            "     Epoch 10\n",
            "     Average loss: 0.312559, Train accuracy: 0.905880, Val accuracy: 0.908948\n",
            "     Epoch 11\n",
            "     Average loss: 0.311297, Train accuracy: 0.906528, Val accuracy: 0.908880\n",
            "     Epoch 12\n",
            "     Average loss: 0.309319, Train accuracy: 0.907586, Val accuracy: 0.908675\n",
            "     Epoch 13\n",
            "     Average loss: 0.307414, Train accuracy: 0.907586, Val accuracy: 0.909358\n",
            "     Epoch 14\n",
            "     Average loss: 0.308298, Train accuracy: 0.908491, Val accuracy: 0.909562\n",
            "----------------\n",
            "-- Step 3\n",
            "   lr=0.1, ann_epoch=10, reg=0.0001\n",
            "     Start train\n",
            "     Epoch 0\n",
            "     Average loss: 3.068563, Train accuracy: 0.182063, Val accuracy: 0.195686\n",
            "     Epoch 1\n",
            "     Average loss: 2.248044, Train accuracy: 0.186619, Val accuracy: 0.195686\n",
            "     Epoch 2\n",
            "     Average loss: 2.248593, Train accuracy: 0.183923, Val accuracy: 0.144632\n",
            "     Epoch 3\n",
            "     Average loss: 2.252291, Train accuracy: 0.183104, Val accuracy: 0.195686\n",
            "     Epoch 4\n",
            "     Average loss: 38.473862, Train accuracy: 0.181739, Val accuracy: 0.195686\n",
            "     Warning! Small validation accuracy!!!\n",
            "----------------\n",
            "-- Step 4\n",
            "   lr=0.01, ann_epoch=10, reg=0.0001\n",
            "     Start train\n",
            "     Epoch 0\n",
            "     Average loss: 1.479050, Train accuracy: 0.481538, Val accuracy: 0.806703\n",
            "     Epoch 1\n",
            "     Average loss: 0.638860, Train accuracy: 0.805515, Val accuracy: 0.826223\n",
            "     Epoch 2\n",
            "     Average loss: 0.557856, Train accuracy: 0.829215, Val accuracy: 0.831820\n",
            "     Epoch 3\n",
            "     Average loss: 0.526379, Train accuracy: 0.838737, Val accuracy: 0.852092\n",
            "     Epoch 4\n",
            "     Average loss: 0.513138, Train accuracy: 0.845186, Val accuracy: 0.862876\n",
            "     Epoch 5\n",
            "     Average loss: 0.506696, Train accuracy: 0.845613, Val accuracy: 0.863491\n",
            "     Epoch 6\n",
            "     Average loss: 0.492340, Train accuracy: 0.850374, Val accuracy: 0.864105\n",
            "     Epoch 7\n",
            "     Average loss: 0.480729, Train accuracy: 0.854486, Val accuracy: 0.871681\n",
            "     Epoch 8\n",
            "     Average loss: 0.482779, Train accuracy: 0.854162, Val accuracy: 0.870111\n",
            "     Epoch 9\n",
            "     Average loss: 0.473318, Train accuracy: 0.858700, Val accuracy: 0.876049\n",
            "     Epoch 10\n",
            "     Average loss: 0.353922, Train accuracy: 0.895045, Val accuracy: 0.907924\n",
            "     Epoch 11\n",
            "     Average loss: 0.316756, Train accuracy: 0.906016, Val accuracy: 0.911201\n",
            "     Epoch 12\n",
            "     Average loss: 0.304694, Train accuracy: 0.909156, Val accuracy: 0.912702\n",
            "     Epoch 13\n",
            "     Average loss: 0.299139, Train accuracy: 0.909839, Val accuracy: 0.912361\n",
            "     Epoch 14\n",
            "     Average loss: 0.289196, Train accuracy: 0.913507, Val accuracy: 0.913453\n",
            "----------------\n",
            "-- Step 5\n",
            "   lr=0.01, ann_epoch=5, reg=0.0001\n",
            "     Start train\n",
            "     Epoch 0\n",
            "     Average loss: 2.019789, Train accuracy: 0.269068, Val accuracy: 0.665825\n",
            "     Epoch 1\n",
            "     Average loss: 0.737213, Train accuracy: 0.768437, Val accuracy: 0.811753\n",
            "     Epoch 2\n",
            "     Average loss: 0.571450, Train accuracy: 0.824916, Val accuracy: 0.855163\n",
            "     Epoch 3\n",
            "     Average loss: 0.529343, Train accuracy: 0.838685, Val accuracy: 0.851955\n",
            "     Epoch 4\n",
            "     Average loss: 0.502298, Train accuracy: 0.847234, Val accuracy: 0.862808\n",
            "     Epoch 5\n",
            "     Average loss: 0.379248, Train accuracy: 0.885029, Val accuracy: 0.901781\n",
            "     Epoch 6\n",
            "     Average loss: 0.344737, Train accuracy: 0.895932, Val accuracy: 0.903693\n",
            "     Epoch 7\n",
            "     Average loss: 0.326978, Train accuracy: 0.901119, Val accuracy: 0.904853\n",
            "     Epoch 8\n",
            "     Average loss: 0.317377, Train accuracy: 0.904293, Val accuracy: 0.904853\n",
            "     Epoch 9\n",
            "     Average loss: 0.309145, Train accuracy: 0.908354, Val accuracy: 0.905877\n",
            "     Epoch 10\n",
            "     Average loss: 0.273544, Train accuracy: 0.918711, Val accuracy: 0.916115\n",
            "     Epoch 11\n",
            "     Average loss: 0.259412, Train accuracy: 0.923062, Val accuracy: 0.915364\n",
            "     Epoch 12\n",
            "     Average loss: 0.252799, Train accuracy: 0.925093, Val accuracy: 0.918913\n",
            "     Epoch 13\n",
            "     Average loss: 0.247187, Train accuracy: 0.926236, Val accuracy: 0.917890\n",
            "     Epoch 14\n",
            "     Average loss: 0.242739, Train accuracy: 0.927584, Val accuracy: 0.917344\n"
          ],
          "name": "stdout"
        }
      ]
    },
    {
      "cell_type": "code",
      "metadata": {
        "id": "9xszPuSfvl2P",
        "colab_type": "code",
        "colab": {
          "base_uri": "https://localhost:8080/",
          "height": 434
        },
        "outputId": "d93acdbe-bc61-464d-ea9c-ed088dff4c84"
      },
      "source": [
        "for hyperparams, run_result in run_record.items():\n",
        "    print(f'Params: lr = {hyperparams.learning_rate}, ann_ep = {hyperparams.anneal_epochs}, reg = {hyperparams.reg}')\n",
        "    print(f'\\n        final val accuracy = {run_result.final_val_accuracy:.2f}\\n')"
      ],
      "execution_count": 32,
      "outputs": [
        {
          "output_type": "stream",
          "text": [
            "Params: lr = 0.0001, ann_ep = 5, reg = 0.0001\n",
            "\n",
            "        final val accuracy = 0.90\n",
            "\n",
            "Params: lr = 0.1, ann_ep = 5, reg = 0.001\n",
            "\n",
            "        final val accuracy = 0.20\n",
            "\n",
            "Params: lr = 0.0001, ann_ep = 5, reg = 0.001\n",
            "\n",
            "        final val accuracy = 0.91\n",
            "\n",
            "Params: lr = 0.1, ann_ep = 10, reg = 0.0001\n",
            "\n",
            "        final val accuracy = 0.20\n",
            "\n",
            "Params: lr = 0.01, ann_ep = 10, reg = 0.0001\n",
            "\n",
            "        final val accuracy = 0.91\n",
            "\n",
            "Params: lr = 0.01, ann_ep = 5, reg = 0.0001\n",
            "\n",
            "        final val accuracy = 0.92\n",
            "\n"
          ],
          "name": "stdout"
        }
      ]
    },
    {
      "cell_type": "code",
      "metadata": {
        "colab_type": "code",
        "id": "tSVhD747icoc",
        "colab": {
          "base_uri": "https://localhost:8080/",
          "height": 34
        },
        "outputId": "564d783a-6246-4d10-bee5-dceca35520ee"
      },
      "source": [
        "best_model = None\n",
        "best_val_accuracy = None\n",
        "best_hyperparams = None\n",
        "best_run = None\n",
        "\n",
        "for hyperparams, run_result in run_record.items():\n",
        "    if best_val_accuracy is None or best_val_accuracy < run_result.final_val_accuracy:\n",
        "        best_val_accuracy = run_result.final_val_accuracy\n",
        "        best_hyperparams = hyperparams\n",
        "        best_run = run_result\n",
        "        best_model = run_result.model\n",
        "\n",
        "print(\"Best validation accuracy: %4.2f, best hyperparams: %s\" % (best_val_accuracy, best_hyperparams))"
      ],
      "execution_count": 33,
      "outputs": [
        {
          "output_type": "stream",
          "text": [
            "Best validation accuracy: 0.92, best hyperparams: Hyperparams(learning_rate=0.01, anneal_epochs=5, reg=0.0001)\n"
          ],
          "name": "stdout"
        }
      ]
    },
    {
      "cell_type": "markdown",
      "metadata": {
        "colab_type": "text",
        "id": "ubeKgBcnhx7N"
      },
      "source": [
        "# Финальный аккорд - проверим лучшую модель на test set\n",
        "\n",
        "В качестве разнообразия - напишите код для прогона модели на test set вы.\n",
        "\n",
        "В результате вы должны натренировать модель, которая покажет более **90%** точности на test set.  \n",
        "Как водится, лучший результат в группе получит дополнительные баллы!"
      ]
    },
    {
      "cell_type": "code",
      "metadata": {
        "colab_type": "code",
        "id": "EIqM1kdeh-hd",
        "colab": {
          "base_uri": "https://localhost:8080/",
          "height": 34
        },
        "outputId": "e885da2b-ec90-40c9-84c8-fc09b25a1d06"
      },
      "source": [
        "# TODO Write the code to compute accuracy on test set\n",
        "batch_size = 64\n",
        "\n",
        "data_test_size = data_test.data.shape[0]\n",
        "indices_test = list(range(data_test_size))\n",
        "np.random.shuffle(indices_test)\n",
        "\n",
        "test_sampler = SubsetRandomSampler(indices_test)\n",
        "\n",
        "test_loader = torch.utils.data.DataLoader(data_test, batch_size=batch_size, \n",
        "                                          sampler=test_sampler)\n",
        "\n",
        "final_test_accuracy = compute_accuracy(final_model, test_loader)\n",
        "print(\"Final test accuracy - \", final_test_accuracy)"
      ],
      "execution_count": 53,
      "outputs": [
        {
          "output_type": "stream",
          "text": [
            "Final test accuracy -  0.9188306699446834\n"
          ],
          "name": "stdout"
        }
      ]
    },
    {
      "cell_type": "code",
      "metadata": {
        "colab_type": "code",
        "id": "BfH6qip6kVX_",
        "colab": {}
      },
      "source": [
        ""
      ],
      "execution_count": null,
      "outputs": []
    }
  ]
}