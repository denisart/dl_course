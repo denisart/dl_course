{
  "nbformat": 4,
  "nbformat_minor": 0,
  "metadata": {
    "accelerator": "GPU",
    "colab": {
      "name": "PyTorch_CNN.ipynb",
      "provenance": [],
      "collapsed_sections": []
    },
    "kernelspec": {
      "display_name": "Python 3",
      "language": "python",
      "name": "python3"
    },
    "language_info": {
      "codemirror_mode": {
        "name": "ipython",
        "version": 3
      },
      "file_extension": ".py",
      "mimetype": "text/x-python",
      "name": "python",
      "nbconvert_exporter": "python",
      "pygments_lexer": "ipython3",
      "version": "3.7.7"
    }
  },
  "cells": [
    {
      "cell_type": "markdown",
      "metadata": {
        "id": "V-388OVPBgNs",
        "colab_type": "text"
      },
      "source": [
        "# Задание 3.2 - сверточные нейронные сети (CNNs) в PyTorch\n",
        "\n",
        "Это упражнение мы буде выполнять в Google Colab - https://colab.research.google.com/  \n",
        "Google Colab позволяет запускать код в notebook в облаке Google, где можно воспользоваться бесплатным GPU!  \n",
        "\n",
        "Авторы курса благодарят компанию Google и надеятся, что праздник не закончится.\n",
        "\n",
        "Туториал по настройке Google Colab:  \n",
        "https://medium.com/deep-learning-turkey/google-colab-free-gpu-tutorial-e113627b9f5d  \n",
        "(Keras инсталлировать не нужно, наш notebook сам установит PyTorch)\n"
      ]
    },
    {
      "cell_type": "code",
      "metadata": {
        "colab_type": "code",
        "id": "FcXBeP1O7cnY",
        "colab": {
          "base_uri": "https://localhost:8080/",
          "height": 521
        },
        "outputId": "4ee48cad-c2aa-4ed8-f653-958b8fffde2e"
      },
      "source": [
        "# Intstall PyTorch and download data\n",
        "!pip3 install torch torchvision\n",
        "\n",
        "!wget -c http://ufldl.stanford.edu/housenumbers/train_32x32.mat http://ufldl.stanford.edu/housenumbers/test_32x32.mat"
      ],
      "execution_count": 1,
      "outputs": [
        {
          "output_type": "stream",
          "text": [
            "Requirement already satisfied: torch in /usr/local/lib/python3.6/dist-packages (1.5.0+cu101)\n",
            "Requirement already satisfied: torchvision in /usr/local/lib/python3.6/dist-packages (0.6.0+cu101)\n",
            "Requirement already satisfied: numpy in /usr/local/lib/python3.6/dist-packages (from torch) (1.18.5)\n",
            "Requirement already satisfied: future in /usr/local/lib/python3.6/dist-packages (from torch) (0.16.0)\n",
            "Requirement already satisfied: pillow>=4.1.1 in /usr/local/lib/python3.6/dist-packages (from torchvision) (7.0.0)\n",
            "--2020-06-18 10:43:25--  http://ufldl.stanford.edu/housenumbers/train_32x32.mat\n",
            "Resolving ufldl.stanford.edu (ufldl.stanford.edu)... 171.64.68.10\n",
            "Connecting to ufldl.stanford.edu (ufldl.stanford.edu)|171.64.68.10|:80... connected.\n",
            "HTTP request sent, awaiting response... 200 OK\n",
            "Length: 182040794 (174M) [text/plain]\n",
            "Saving to: ‘train_32x32.mat’\n",
            "\n",
            "train_32x32.mat     100%[===================>] 173.61M  6.14MB/s    in 38s     \n",
            "\n",
            "2020-06-18 10:44:04 (4.55 MB/s) - ‘train_32x32.mat’ saved [182040794/182040794]\n",
            "\n",
            "--2020-06-18 10:44:04--  http://ufldl.stanford.edu/housenumbers/test_32x32.mat\n",
            "Reusing existing connection to ufldl.stanford.edu:80.\n",
            "HTTP request sent, awaiting response... 200 OK\n",
            "Length: 64275384 (61M) [text/plain]\n",
            "Saving to: ‘test_32x32.mat’\n",
            "\n",
            "test_32x32.mat      100%[===================>]  61.30M  1.88MB/s    in 15s     \n",
            "\n",
            "2020-06-18 10:44:19 (4.17 MB/s) - ‘test_32x32.mat’ saved [64275384/64275384]\n",
            "\n",
            "FINISHED --2020-06-18 10:44:19--\n",
            "Total wall clock time: 53s\n",
            "Downloaded: 2 files, 235M in 53s (4.44 MB/s)\n"
          ],
          "name": "stdout"
        }
      ]
    },
    {
      "cell_type": "code",
      "metadata": {
        "colab_type": "code",
        "id": "-afwWw-Q85vD",
        "colab": {}
      },
      "source": [
        "from collections import namedtuple\n",
        "\n",
        "import matplotlib.pyplot as plt\n",
        "import numpy as np\n",
        "import PIL\n",
        "import torch\n",
        "import torch.nn as nn\n",
        "import torch.optim as optim\n",
        "import torchvision.datasets as dset\n",
        "from torch.utils.data.sampler import SubsetRandomSampler\n",
        "\n",
        "from torchvision import transforms"
      ],
      "execution_count": 2,
      "outputs": []
    },
    {
      "cell_type": "code",
      "metadata": {
        "colab_type": "code",
        "id": "NNU-OD9O9ltP",
        "colab": {}
      },
      "source": [
        "device = torch.device(\"cuda:0\") # Let's make sure GPU is available!"
      ],
      "execution_count": 3,
      "outputs": []
    },
    {
      "cell_type": "markdown",
      "metadata": {
        "id": "mS35Tv7YBgON",
        "colab_type": "text"
      },
      "source": [
        "# Загружаем данные"
      ]
    },
    {
      "cell_type": "code",
      "metadata": {
        "colab_type": "code",
        "id": "YAvkoRx-9FsP",
        "colab": {}
      },
      "source": [
        "# First, lets load the dataset\n",
        "data_train = dset.SVHN('./', \n",
        "                       transform=transforms.Compose([\n",
        "                           transforms.ToTensor(),\n",
        "                           transforms.Normalize(mean=[0.43, 0.44, 0.47],\n",
        "                                                std=[0.20, 0.20, 0.20])]))\n",
        "data_test = dset.SVHN('./', split='test', transform=transforms.Compose([\n",
        "                           transforms.ToTensor(),\n",
        "                           transforms.Normalize(mean=[0.43, 0.44, 0.47],\n",
        "                                                std=[0.20, 0.20, 0.20])]))"
      ],
      "execution_count": 4,
      "outputs": []
    },
    {
      "cell_type": "markdown",
      "metadata": {
        "id": "pFl-dxBlBgOU",
        "colab_type": "text"
      },
      "source": [
        "Разделяем данные на training и validation.\n",
        "\n",
        "На всякий случай для подробностей - https://pytorch.org/tutorials/beginner/data_loading_tutorial.html"
      ]
    },
    {
      "cell_type": "code",
      "metadata": {
        "colab_type": "code",
        "id": "YRnr8CPg7Hli",
        "colab": {}
      },
      "source": [
        "batch_size = 64\n",
        "\n",
        "data_size = data_train.data.shape[0]\n",
        "validation_split = .2\n",
        "split = int(np.floor(validation_split * data_size))\n",
        "indices = list(range(data_size))\n",
        "np.random.shuffle(indices)\n",
        "\n",
        "train_indices, val_indices = indices[split:], indices[:split]\n",
        "\n",
        "train_sampler = SubsetRandomSampler(train_indices)\n",
        "val_sampler = SubsetRandomSampler(val_indices)\n",
        "\n",
        "train_loader = torch.utils.data.DataLoader(data_train, batch_size=batch_size, \n",
        "                                           sampler=train_sampler)\n",
        "val_loader = torch.utils.data.DataLoader(data_train, batch_size=batch_size,\n",
        "                                         sampler=val_sampler)"
      ],
      "execution_count": 5,
      "outputs": []
    },
    {
      "cell_type": "code",
      "metadata": {
        "colab_type": "code",
        "id": "LyYvt-T67PBG",
        "colab": {}
      },
      "source": [
        "# We'll use a special helper module to shape it into a flat tensor\n",
        "class Flattener(nn.Module):\n",
        "    def forward(self, x):\n",
        "        batch_size, *_ = x.shape\n",
        "        return x.view(batch_size, -1)"
      ],
      "execution_count": 6,
      "outputs": []
    },
    {
      "cell_type": "markdown",
      "metadata": {
        "id": "vY3v2K3mBgOj",
        "colab_type": "text"
      },
      "source": [
        "Создадим простейшую сеть с новыми слоями:  \n",
        "Convolutional - `nn.Conv2d`  \n",
        "MaxPool - `nn.MaxPool2d`"
      ]
    },
    {
      "cell_type": "code",
      "metadata": {
        "colab_type": "code",
        "id": "w9SFVGZP7SQd",
        "colab": {}
      },
      "source": [
        "nn_model = nn.Sequential(\n",
        "            nn.Conv2d(3, 64, 3, padding=1),\n",
        "            nn.ReLU(inplace=True),\n",
        "            nn.MaxPool2d(4),\n",
        "            nn.Conv2d(64, 64, 3, padding=1),\n",
        "            nn.ReLU(inplace=True),\n",
        "            nn.MaxPool2d(4),    \n",
        "            Flattener(),\n",
        "            nn.Linear(64*2*2, 10),\n",
        "          )\n",
        "\n",
        "nn_model.type(torch.cuda.FloatTensor)\n",
        "nn_model.to(device)\n",
        "\n",
        "loss = nn.CrossEntropyLoss().type(torch.cuda.FloatTensor)\n",
        "optimizer = optim.SGD(nn_model.parameters(), lr=1e-1, weight_decay=1e-4)"
      ],
      "execution_count": 51,
      "outputs": []
    },
    {
      "cell_type": "markdown",
      "metadata": {
        "id": "IrtM7HjlBgOo",
        "colab_type": "text"
      },
      "source": [
        "Восстановите функцию `compute_accuracy` из прошлого задания.  \n",
        "Единственное отличие в новом - она должна передать данные на GPU прежде чем прогонять через модель. Сделайте это так же, как это делает функция `train_model`"
      ]
    },
    {
      "cell_type": "code",
      "metadata": {
        "colab_type": "code",
        "id": "2ek3KVQK7hJ6",
        "colab": {
          "base_uri": "https://localhost:8080/",
          "height": 191
        },
        "outputId": "c8f7a585-8b0f-4a3d-91f6-e108e94fa823"
      },
      "source": [
        "def train_model(model, train_loader, val_loader, loss, optimizer, num_epochs):    \n",
        "    loss_history = []\n",
        "    train_history = []\n",
        "    val_history = []\n",
        "    for epoch in range(num_epochs):\n",
        "        print(f'-- Epoch {epoch}')\n",
        "        model.train() # Enter train mode\n",
        "        \n",
        "        loss_accum = 0\n",
        "        correct_samples = 0\n",
        "        total_samples = 0\n",
        "        for i_step, (x, y) in enumerate(train_loader):\n",
        "          \n",
        "            x_gpu = x.to(device)\n",
        "            y_gpu = y.to(device)\n",
        "            prediction = model(x_gpu)    \n",
        "            loss_value = loss(prediction, y_gpu)\n",
        "            optimizer.zero_grad()\n",
        "            loss_value.backward()\n",
        "            optimizer.step()\n",
        "            \n",
        "            _, indices = torch.max(prediction, 1)\n",
        "            correct_samples += torch.sum(indices == y_gpu)\n",
        "            total_samples += y.shape[0]\n",
        "            \n",
        "            loss_accum += loss_value\n",
        "\n",
        "        ave_loss = loss_accum / i_step\n",
        "        train_accuracy = float(correct_samples) / total_samples\n",
        "        val_accuracy = compute_accuracy(model, val_loader)\n",
        "        \n",
        "        loss_history.append(float(ave_loss))\n",
        "        train_history.append(train_accuracy)\n",
        "        val_history.append(val_accuracy)\n",
        "        \n",
        "        print(\"   Average loss: %f, Train accuracy: %f, Val accuracy: %f\" % (ave_loss, train_accuracy, val_accuracy))\n",
        "        \n",
        "    return loss_history, train_history, val_history\n",
        "        \n",
        "def compute_accuracy(model, loader):\n",
        "    \"\"\"\n",
        "    Computes accuracy on the dataset wrapped in a loader\n",
        "    \n",
        "    Returns: accuracy as a float value between 0 and 1\n",
        "    \"\"\"\n",
        "    model.eval() # Evaluation mode\n",
        "    # TODO: Copy implementation from previous assignment\n",
        "    # Don't forget to move the data to device before running it through the model!\n",
        "    \n",
        "    correct_samples = 0\n",
        "    total_samples = 0\n",
        "\n",
        "    for i_step, (x, y) in enumerate(loader):\n",
        "        x_gpu = x.to(device)\n",
        "        y_gpu = y.to(device)\n",
        "\n",
        "        prediction = model(x_gpu)\n",
        "        _, inds = torch.max(prediction, 1)\n",
        "\n",
        "        correct_samples += torch.sum(inds == y_gpu)\n",
        "        total_samples += y_gpu.shape[0]\n",
        "    \n",
        "    return float(correct_samples) / total_samples\n",
        "\n",
        "loss_history, train_history, val_history = train_model(nn_model, train_loader, val_loader, loss, optimizer, 5)"
      ],
      "execution_count": 52,
      "outputs": [
        {
          "output_type": "stream",
          "text": [
            "-- Epoch 0\n",
            "   Average loss: 1.367728, Train accuracy: 0.545149, Val accuracy: 0.742065\n",
            "-- Epoch 1\n",
            "   Average loss: 0.696715, Train accuracy: 0.792001, Val accuracy: 0.798239\n",
            "-- Epoch 2\n",
            "   Average loss: 0.598317, Train accuracy: 0.821349, Val accuracy: 0.826701\n",
            "-- Epoch 3\n",
            "   Average loss: 0.551666, Train accuracy: 0.836041, Val accuracy: 0.845949\n",
            "-- Epoch 4\n",
            "   Average loss: 0.512786, Train accuracy: 0.847063, Val accuracy: 0.848611\n"
          ],
          "name": "stdout"
        }
      ]
    },
    {
      "cell_type": "markdown",
      "metadata": {
        "colab_type": "text",
        "id": "6a-3a1ZFGEw_"
      },
      "source": [
        "# Аугментация данных (Data augmentation)\n",
        "\n",
        "В работе с изображениями одним из особенно важных методов является аугментация данных - то есть, генерация дополнительных данных для тренировки на основе изначальных.   \n",
        "Таким образом, мы получаем возможность \"увеличить\" набор данных для тренировки, что ведет к лучшей работе сети.\n",
        "Важно, чтобы аугментированные данные были похожи на те, которые могут встретиться в реальной жизни, иначе польза от аугментаций уменьшается и может ухудшить работу сети.\n",
        "\n",
        "С PyTorch идут несколько таких алгоритмов, называемых `transforms`. Более подробно про них можно прочитать тут -\n",
        "https://pytorch.org/tutorials/beginner/data_loading_tutorial.html#transforms\n",
        "\n",
        "Ниже мы используем следующие алгоритмы генерации:\n",
        "- ColorJitter - случайное изменение цвета\n",
        "- RandomHorizontalFlip - горизонтальное отражение с вероятностью 50%\n",
        "- RandomVerticalFlip - вертикальное отражение с вероятностью 50%\n",
        "- RandomRotation - случайный поворот"
      ]
    },
    {
      "cell_type": "code",
      "metadata": {
        "colab_type": "code",
        "id": "jCWMUWmr7t5g",
        "colab": {}
      },
      "source": [
        "tfs = transforms.Compose([\n",
        "    transforms.ColorJitter(hue=.50, saturation=.50),\n",
        "    transforms.RandomHorizontalFlip(),\n",
        "    transforms.RandomVerticalFlip(),\n",
        "    transforms.RandomRotation(50, resample=PIL.Image.BILINEAR),\n",
        "    transforms.ToTensor(),\n",
        "    transforms.Normalize(mean=[0.43,0.44,0.47],\n",
        "                         std=[0.20,0.20,0.20])                           \n",
        "])\n",
        "\n",
        "# Create augmented train dataset\n",
        "data_aug_train = dset.SVHN('./', \n",
        "                       transform=tfs)\n",
        "\n",
        "train_aug_loader = torch.utils.data.DataLoader(data_aug_train, batch_size=batch_size, \n",
        "                                               sampler=train_sampler)"
      ],
      "execution_count": 53,
      "outputs": []
    },
    {
      "cell_type": "markdown",
      "metadata": {
        "id": "Xs6nUdN4BgO1",
        "colab_type": "text"
      },
      "source": [
        "Визуализируем результаты агментации (вообще, смотреть на сгенерированные данные всегда очень полезно)."
      ]
    },
    {
      "cell_type": "code",
      "metadata": {
        "colab_type": "code",
        "id": "YlJJEro1KZ45",
        "colab": {
          "base_uri": "https://localhost:8080/",
          "height": 132
        },
        "outputId": "b0b67616-1728-415e-86e1-3081aa149d36"
      },
      "source": [
        "# TODO: Visualize some augmented images!\n",
        "# hint: you can create new datasets and loaders to accomplish this\n",
        "\n",
        "# Based on the visualizations, should we keep all the augmentations?\n",
        "\n",
        "tfs = transforms.Compose([\n",
        "    # transforms.ColorJitter(hue=.20, saturation=.30),\n",
        "    # transforms.RandomHorizontalFlip(),\n",
        "    # transforms.RandomVerticalFlip(),\n",
        "    transforms.RandomRotation(10, resample=PIL.Image.BILINEAR),\n",
        "])\n",
        "\n",
        "data_aug_vis = dset.SVHN('./', \n",
        "                       transform=tfs)\n",
        "\n",
        "plt.figure(figsize=(30, 3))\n",
        "\n",
        "for i, (x, y) in enumerate(data_aug_vis):\n",
        "    if i >= 0 and i < 10:\n",
        "      plt.subplot(1, 10, i + 1)\n",
        "      plt.grid(False)\n",
        "      plt.imshow(x)\n",
        "      plt.axis('off')\n",
        "\n",
        "    if i == 10:\n",
        "        break"
      ],
      "execution_count": 47,
      "outputs": [
        {
          "output_type": "display_data",
          "data": {
            "image/png": "[encoded data removed]",
            "text/plain": [
              "<Figure size 2160x216 with 10 Axes>"
            ]
          },
          "metadata": {
            "tags": [],
            "needs_background": "light"
          }
        }
      ]
    },
    {
      "cell_type": "markdown",
      "metadata": {
        "colab_type": "text",
        "id": "o2LrmsYHoguB"
      },
      "source": [
        "Все ли агментации одинаково полезны на этом наборе данных? Могут ли быть среди них те, которые собьют модель с толку?\n",
        "\n",
        "Выберите из них только корректные"
      ]
    },
    {
      "cell_type": "code",
      "metadata": {
        "colab_type": "code",
        "id": "evro9ksXGs9u",
        "colab": {}
      },
      "source": [
        "# TODO: \n",
        "tfs = transforms.Compose([\n",
        "    # TODO: Add good augmentations\n",
        "    transforms.ColorJitter(hue=.20, saturation=.30),\n",
        "    transforms.RandomRotation(10, resample=PIL.Image.BILINEAR),\n",
        "    transforms.ToTensor(),\n",
        "    transforms.Normalize(mean=[0.43,0.44,0.47],\n",
        "                       std=[0.20,0.20,0.20])                           \n",
        "])\n",
        "\n",
        "# TODO create new instances of loaders with the augmentations you chose\n",
        "data_aut_train = dset.SVHN('./', transform=tfs)\n",
        "\n",
        "train_aug_loader = torch.utils.data.DataLoader(data_aug_train, batch_size=batch_size,\n",
        "                                               sampler=train_sampler)"
      ],
      "execution_count": 54,
      "outputs": []
    },
    {
      "cell_type": "code",
      "metadata": {
        "colab_type": "code",
        "id": "PeO6Zw0DHqPR",
        "colab": {
          "base_uri": "https://localhost:8080/",
          "height": 191
        },
        "outputId": "4bac7a00-781a-44d6-eba8-5a8436689826"
      },
      "source": [
        "# Finally, let's train with augmentations!\n",
        "\n",
        "# Note we shouldn't use augmentations on validation\n",
        "\n",
        "loss_history, train_history, val_history = train_model(nn_model, train_aug_loader, val_loader, loss, optimizer, 5)"
      ],
      "execution_count": 55,
      "outputs": [
        {
          "output_type": "stream",
          "text": [
            "-- Epoch 0\n",
            "   Average loss: 1.962147, Train accuracy: 0.309576, Val accuracy: 0.486110\n",
            "-- Epoch 1\n",
            "   Average loss: 1.725793, Train accuracy: 0.380439, Val accuracy: 0.549178\n",
            "-- Epoch 2\n",
            "   Average loss: 1.646999, Train accuracy: 0.411613, Val accuracy: 0.491707\n",
            "-- Epoch 3\n",
            "   Average loss: 1.591413, Train accuracy: 0.435126, Val accuracy: 0.479762\n",
            "-- Epoch 4\n",
            "   Average loss: 1.536673, Train accuracy: 0.456472, Val accuracy: 0.521807\n"
          ],
          "name": "stdout"
        }
      ]
    },
    {
      "cell_type": "markdown",
      "metadata": {
        "colab_type": "text",
        "id": "r0bcioK6JBDK"
      },
      "source": [
        "# LeNet\n",
        "Попробуем имплементировать классическую архитектуру сверточной нейронной сети, предложенную Яном ЛеКуном в 1998 году. В свое время она достигла впечатляющих результатов на MNIST, посмотрим как она справится с SVHN?\n",
        "Она описана в статье [\"Gradient Based Learning Applied to Document Recognition\"](http://yann.lecun.com/exdb/publis/pdf/lecun-01a.pdf), попробуйте прочитать ключевые части и имплементировать предложенную архитетуру на PyTorch.\n",
        "\n",
        "Реализовывать слои и функцию ошибки LeNet, которых нет в PyTorch, **не нужно** - просто возьмите их размеры и переведите в уже известные нам Convolutional, Pooling и Fully Connected layers.\n",
        "\n",
        "Если в статье не очень понятно, можно просто погуглить LeNet и разобраться в деталях :)"
      ]
    },
    {
      "cell_type": "code",
      "metadata": {
        "colab_type": "code",
        "id": "ieEzZUglJAUB",
        "colab": {}
      },
      "source": [
        "# TODO: Implement LeNet-like architecture for SVHN task\n",
        "lenet_model = nn.Sequential(\n",
        "    nn.Conv2d(3, 6, 5),\n",
        "    nn.ReLU(inplace=True),\n",
        "    nn.MaxPool2d(2),\n",
        "    nn.Conv2d(6, 16, 5),\n",
        "    nn.ReLU(inplace=True),\n",
        "    nn.MaxPool2d(2),\n",
        "    Flattener(),\n",
        "    nn.Linear(16*5*5, 120),\n",
        "    nn.ReLU(inplace=True),\n",
        "    nn.Linear(120, 84),\n",
        "    nn.ReLU(inplace=True),\n",
        "    nn.Linear(84, 10)\n",
        ")\n",
        "\n",
        "lenet_model.type(torch.cuda.FloatTensor)\n",
        "lenet_model.to(device)\n",
        "\n",
        "loss = nn.CrossEntropyLoss().type(torch.cuda.FloatTensor)\n",
        "optimizer = optim.SGD(lenet_model.parameters(), lr=1e-1, weight_decay=1e-4)"
      ],
      "execution_count": 56,
      "outputs": []
    },
    {
      "cell_type": "code",
      "metadata": {
        "colab_type": "code",
        "id": "WMmaPfdeKk9H",
        "colab": {
          "base_uri": "https://localhost:8080/",
          "height": 364
        },
        "outputId": "e0f2f1d2-a61e-426a-f1c3-79559c983a55"
      },
      "source": [
        "# Let's train it!\n",
        "loss_history, train_history, val_history = train_model(lenet_model, train_aug_loader, val_loader, loss, optimizer, 10)"
      ],
      "execution_count": 57,
      "outputs": [
        {
          "output_type": "stream",
          "text": [
            "-- Epoch 0\n",
            "   Average loss: 2.113157, Train accuracy: 0.238474, Val accuracy: 0.410211\n",
            "-- Epoch 1\n",
            "   Average loss: 1.509683, Train accuracy: 0.470924, Val accuracy: 0.581872\n",
            "-- Epoch 2\n",
            "   Average loss: 1.229998, Train accuracy: 0.579087, Val accuracy: 0.631083\n",
            "-- Epoch 3\n",
            "   Average loss: 1.103944, Train accuracy: 0.623878, Val accuracy: 0.660433\n",
            "-- Epoch 4\n",
            "   Average loss: 1.041324, Train accuracy: 0.645787, Val accuracy: 0.662617\n",
            "-- Epoch 5\n",
            "   Average loss: 0.999162, Train accuracy: 0.660700, Val accuracy: 0.686165\n",
            "-- Epoch 6\n",
            "   Average loss: 0.965744, Train accuracy: 0.670409, Val accuracy: 0.665211\n",
            "-- Epoch 7\n",
            "   Average loss: 0.939382, Train accuracy: 0.678395, Val accuracy: 0.687325\n",
            "-- Epoch 8\n",
            "   Average loss: 0.919442, Train accuracy: 0.685783, Val accuracy: 0.694765\n",
            "-- Epoch 9\n",
            "   Average loss: 0.904902, Train accuracy: 0.688616, Val accuracy: 0.689851\n"
          ],
          "name": "stdout"
        }
      ]
    },
    {
      "cell_type": "markdown",
      "metadata": {
        "colab_type": "text",
        "id": "u_O9qiYySvuj"
      },
      "source": [
        "# Подбор гиперпараметров"
      ]
    },
    {
      "cell_type": "code",
      "metadata": {
        "id": "b98HRqcWesCx",
        "colab_type": "code",
        "colab": {}
      },
      "source": [
        "def train_model(model, train_loader, val_loader, loss, optimizer, scheduler, num_epochs):    \n",
        "    loss_history = []\n",
        "    train_history = []\n",
        "    val_history = []\n",
        "\n",
        "    print('     Start train')\n",
        "    for epoch in range(num_epochs):\n",
        "        print(f'     Epoch {epoch}')\n",
        "        model.train() # Enter train mode\n",
        "        \n",
        "        loss_accum = 0\n",
        "        correct_samples = 0\n",
        "        total_samples = 0\n",
        "        for i_step, (x, y) in enumerate(train_loader):\n",
        "          \n",
        "            x_gpu = x.to(device)\n",
        "            y_gpu = y.to(device)\n",
        "            prediction = model(x_gpu)    \n",
        "            loss_value = loss(prediction, y_gpu)\n",
        "            optimizer.zero_grad()\n",
        "            loss_value.backward()\n",
        "            optimizer.step()\n",
        "            \n",
        "            _, indices = torch.max(prediction, 1)\n",
        "            correct_samples += torch.sum(indices == y_gpu)\n",
        "            total_samples += y.shape[0]\n",
        "            \n",
        "            loss_accum += loss_value\n",
        "\n",
        "        ave_loss = loss_accum / i_step\n",
        "        train_accuracy = float(correct_samples) / total_samples\n",
        "        val_accuracy = compute_accuracy(model, val_loader)\n",
        "        \n",
        "        loss_history.append(float(ave_loss))\n",
        "        train_history.append(train_accuracy)\n",
        "        val_history.append(val_accuracy)\n",
        "        scheduler.step()\n",
        "        \n",
        "        print(\"     Average loss: %f, Train accuracy: %f, Val accuracy: %f\" % (ave_loss, train_accuracy, val_accuracy))\n",
        "        \n",
        "    return loss_history, train_history, val_history\n",
        "        \n",
        "def compute_accuracy(model, loader):\n",
        "    \"\"\"\n",
        "    Computes accuracy on the dataset wrapped in a loader\n",
        "    \n",
        "    Returns: accuracy as a float value between 0 and 1\n",
        "    \"\"\"\n",
        "    model.eval() # Evaluation mode\n",
        "    # TODO: Copy implementation from previous assignment\n",
        "    # Don't forget to move the data to device before running it through the model!\n",
        "    \n",
        "    correct_samples = 0\n",
        "    total_samples = 0\n",
        "\n",
        "    for i_step, (x, y) in enumerate(loader):\n",
        "        x_gpu = x.to(device)\n",
        "        y_gpu = y.to(device)\n",
        "\n",
        "        prediction = model(x_gpu)\n",
        "        _, inds = torch.max(prediction, 1)\n",
        "\n",
        "        correct_samples += torch.sum(inds == y_gpu)\n",
        "        total_samples += y_gpu.shape[0]\n",
        "    \n",
        "    return float(correct_samples) / total_samples"
      ],
      "execution_count": 62,
      "outputs": []
    },
    {
      "cell_type": "code",
      "metadata": {
        "colab_type": "code",
        "id": "i6mhfdQ9K-N3",
        "colab": {
          "base_uri": "https://localhost:8080/",
          "height": 1000
        },
        "outputId": "73802ab2-55d9-44ab-e4dc-e7779b61c7d8"
      },
      "source": [
        "# The key hyperparameters we're going to tune are learning speed, annealing rate and regularization\n",
        "# We also encourage you to try different optimizers as well\n",
        "\n",
        "Hyperparams = namedtuple(\"Hyperparams\", ['learning_rate', 'anneal_epochs', 'reg', 'optims'])\n",
        "RunResult = namedtuple(\"RunResult\", ['model', 'train_history', 'val_history', 'final_val_accuracy'])\n",
        "\n",
        "learning_rates = [1e0, 1e-1, 1e-2, 1e-3, 1e-4]\n",
        "anneal_coeff = 0.2\n",
        "anneal_epochs = [1, 5, 10, 15, 20, 50]\n",
        "reg = [1e-3, 1e-4, 1e-5, 1e-7]\n",
        "optims = ['sgd', 'adam', 'rms']\n",
        "\n",
        "batch_size = 64\n",
        "epoch_num = 10\n",
        "\n",
        "# Record all the runs here\n",
        "# Key should be Hyperparams and values should be RunResult\n",
        "run_record = {} \n",
        "\n",
        "# Use grid search or random search and record all runs in run_record dictionnary \n",
        "# Important: perform search in logarithmic space!\n",
        "\n",
        "# TODO: Your code here!\n",
        "num_random_steps = 10\n",
        "\n",
        "for step in range(num_random_steps):\n",
        "  print('----------------')\n",
        "  print(f'-- Step {step}')\n",
        "\n",
        "  rand_lr = learning_rates[np.random.randint(low=0, high=5)]\n",
        "  rand_ann_epoch = anneal_epochs[np.random.randint(low=0, high=6)]\n",
        "  rand_reg = reg[np.random.randint(low=0, high=4)]\n",
        "  rand_optim = optims[np.random.randint(low=0, high=3)]\n",
        "\n",
        "  print(f'   lr={rand_lr}, ann_epoch={rand_ann_epoch}, reg={rand_reg}, optim={rand_optim}')\n",
        "\n",
        "  lenet_model = nn.Sequential(\n",
        "      nn.Conv2d(3, 6, 5),\n",
        "      nn.ReLU(inplace=True),\n",
        "      nn.MaxPool2d(2),\n",
        "      nn.Conv2d(6, 16, 5),\n",
        "      nn.ReLU(inplace=True),\n",
        "      nn.MaxPool2d(2),\n",
        "      Flattener(),\n",
        "      nn.Linear(16*5*5, 120),\n",
        "      nn.ReLU(inplace=True),\n",
        "      nn.Linear(120, 84),\n",
        "      nn.ReLU(inplace=True),\n",
        "      nn.Linear(84, 10)\n",
        "  )\n",
        "\n",
        "  lenet_model.type(torch.cuda.FloatTensor)\n",
        "  lenet_model.to(device)\n",
        "\n",
        "  loss = nn.CrossEntropyLoss().type(torch.cuda.FloatTensor)\n",
        "  if rand_optim == 'sgd':\n",
        "    optimizer = optim.SGD(lenet_model.parameters(), lr=rand_lr, weight_decay=rand_reg)\n",
        "  elif rand_optim == 'adam':\n",
        "    optimizer = optim.Adam(lenet_model.parameters(), lr=rand_lr, weight_decay=rand_reg)\n",
        "  else:\n",
        "    optimizer = optim.RMSprop(lenet_model.parameters(), lr=rand_lr, weight_decay=rand_reg)\n",
        "\n",
        "  lambda1 = lambda epoch: anneal_coeff ** (epoch // rand_ann_epoch)\n",
        "  scheduler = optim.lr_scheduler.LambdaLR(optimizer, lr_lambda=[lambda1])\n",
        "\n",
        "  loss_history, train_history, val_history = train_model(lenet_model, train_aug_loader, val_loader, loss, optimizer, scheduler, epoch_num)\n",
        "\n",
        "  run_record[Hyperparams(rand_lr, rand_ann_epoch,\n",
        "                         rand_reg, rand_optim)] = RunResult(lenet_model, train_history, val_history, val_history[-1])"
      ],
      "execution_count": 63,
      "outputs": [
        {
          "output_type": "stream",
          "text": [
            "----------------\n",
            "-- Step 0\n",
            "   lr=0.001, ann_epoch=5, reg=0.001, optim=sgd\n",
            "     Start train\n",
            "     Epoch 0\n",
            "     Average loss: 2.314742, Train accuracy: 0.096645, Val accuracy: 0.102109\n",
            "     Epoch 1\n",
            "     Average loss: 2.291195, Train accuracy: 0.153312, Val accuracy: 0.190226\n",
            "     Epoch 2\n",
            "     Average loss: 2.270556, Train accuracy: 0.188957, Val accuracy: 0.190226\n",
            "     Epoch 3\n",
            "     Average loss: 2.254473, Train accuracy: 0.188957, Val accuracy: 0.190226\n",
            "     Epoch 4\n",
            "     Average loss: 2.245245, Train accuracy: 0.188957, Val accuracy: 0.190226\n",
            "     Epoch 5\n",
            "     Average loss: 2.242440, Train accuracy: 0.188957, Val accuracy: 0.190226\n",
            "     Epoch 6\n",
            "     Average loss: 2.241954, Train accuracy: 0.188957, Val accuracy: 0.190226\n",
            "     Epoch 7\n",
            "     Average loss: 2.241561, Train accuracy: 0.188957, Val accuracy: 0.190226\n",
            "     Epoch 8\n",
            "     Average loss: 2.241140, Train accuracy: 0.188957, Val accuracy: 0.190226\n",
            "     Epoch 9\n",
            "     Average loss: 2.240855, Train accuracy: 0.188957, Val accuracy: 0.190226\n",
            "----------------\n",
            "-- Step 1\n",
            "   lr=0.1, ann_epoch=10, reg=0.001, optim=sgd\n",
            "     Start train\n",
            "     Epoch 0\n",
            "     Average loss: 2.177580, Train accuracy: 0.213835, Val accuracy: 0.316770\n",
            "     Epoch 1\n",
            "     Average loss: 1.625514, Train accuracy: 0.427089, Val accuracy: 0.527541\n",
            "     Epoch 2\n",
            "     Average loss: 1.288713, Train accuracy: 0.556752, Val accuracy: 0.595659\n",
            "     Epoch 3\n",
            "     Average loss: 1.149303, Train accuracy: 0.606917, Val accuracy: 0.651833\n",
            "     Epoch 4\n",
            "     Average loss: 1.070928, Train accuracy: 0.633229, Val accuracy: 0.646372\n",
            "     Epoch 5\n",
            "     Average loss: 1.023811, Train accuracy: 0.649678, Val accuracy: 0.661661\n",
            "     Epoch 6\n",
            "     Average loss: 0.991311, Train accuracy: 0.662099, Val accuracy: 0.686506\n",
            "     Epoch 7\n",
            "     Average loss: 0.967459, Train accuracy: 0.667628, Val accuracy: 0.682001\n",
            "     Epoch 8\n",
            "     Average loss: 0.944462, Train accuracy: 0.676296, Val accuracy: 0.685346\n",
            "     Epoch 9\n",
            "     Average loss: 0.933955, Train accuracy: 0.680801, Val accuracy: 0.694560\n",
            "----------------\n",
            "-- Step 2\n",
            "   lr=0.001, ann_epoch=15, reg=0.0001, optim=adam\n",
            "     Start train\n",
            "     Epoch 0\n",
            "     Average loss: 1.824296, Train accuracy: 0.345562, Val accuracy: 0.517985\n",
            "     Epoch 1\n",
            "     Average loss: 1.328647, Train accuracy: 0.537795, Val accuracy: 0.590540\n",
            "     Epoch 2\n",
            "     Average loss: 1.161759, Train accuracy: 0.603658, Val accuracy: 0.631220\n",
            "     Epoch 3\n",
            "     Average loss: 1.080609, Train accuracy: 0.630004, Val accuracy: 0.653539\n",
            "     Epoch 4\n",
            "     Average loss: 1.029901, Train accuracy: 0.647476, Val accuracy: 0.663982\n",
            "     Epoch 5\n",
            "     Average loss: 0.980594, Train accuracy: 0.660683, Val accuracy: 0.680704\n",
            "     Epoch 6\n",
            "     Average loss: 0.955125, Train accuracy: 0.671774, Val accuracy: 0.668146\n",
            "     Epoch 7\n",
            "     Average loss: 0.928468, Train accuracy: 0.679538, Val accuracy: 0.684936\n",
            "     Epoch 8\n",
            "     Average loss: 0.905320, Train accuracy: 0.687182, Val accuracy: 0.696744\n",
            "     Epoch 9\n",
            "     Average loss: 0.886863, Train accuracy: 0.694332, Val accuracy: 0.688827\n",
            "----------------\n",
            "-- Step 3\n",
            "   lr=0.1, ann_epoch=10, reg=0.0001, optim=rms\n",
            "     Start train\n",
            "     Epoch 0\n",
            "     Average loss: 102012.390625, Train accuracy: 0.181534, Val accuracy: 0.190158\n",
            "     Epoch 1\n",
            "     Average loss: 2.251147, Train accuracy: 0.185101, Val accuracy: 0.190226\n",
            "     Epoch 2\n",
            "     Average loss: 2.406950, Train accuracy: 0.183053, Val accuracy: 0.190158\n",
            "     Epoch 3\n",
            "     Average loss: 2163.077881, Train accuracy: 0.183138, Val accuracy: 0.118217\n",
            "     Epoch 4\n",
            "     Average loss: 10.314533, Train accuracy: 0.183172, Val accuracy: 0.190226\n",
            "     Epoch 5\n",
            "     Average loss: 2.249069, Train accuracy: 0.185101, Val accuracy: 0.190226\n",
            "     Epoch 6\n",
            "     Average loss: 126.116791, Train accuracy: 0.183155, Val accuracy: 0.190226\n",
            "     Epoch 7\n",
            "     Average loss: 89.297447, Train accuracy: 0.184674, Val accuracy: 0.190226\n",
            "     Epoch 8\n",
            "     Average loss: 35.517834, Train accuracy: 0.185203, Val accuracy: 0.190226\n",
            "     Epoch 9\n",
            "     Average loss: 2.664681, Train accuracy: 0.183275, Val accuracy: 0.190226\n",
            "----------------\n",
            "-- Step 4\n",
            "   lr=0.001, ann_epoch=10, reg=0.001, optim=adam\n",
            "     Start train\n",
            "     Epoch 0\n",
            "     Average loss: 1.967601, Train accuracy: 0.289510, Val accuracy: 0.440379\n",
            "     Epoch 1\n",
            "     Average loss: 1.465161, Train accuracy: 0.480906, Val accuracy: 0.543444\n",
            "     Epoch 2\n",
            "     Average loss: 1.316972, Train accuracy: 0.537522, Val accuracy: 0.585148\n",
            "     Epoch 3\n",
            "     Average loss: 1.221377, Train accuracy: 0.575095, Val accuracy: 0.608969\n",
            "     Epoch 4\n",
            "     Average loss: 1.146629, Train accuracy: 0.602754, Val accuracy: 0.647123\n",
            "     Epoch 5\n",
            "     Average loss: 1.102078, Train accuracy: 0.616746, Val accuracy: 0.660091\n",
            "     Epoch 6\n",
            "     Average loss: 1.066883, Train accuracy: 0.635242, Val accuracy: 0.668077\n",
            "     Epoch 7\n",
            "     Average loss: 1.038835, Train accuracy: 0.642767, Val accuracy: 0.668350\n",
            "     Epoch 8\n",
            "     Average loss: 1.012752, Train accuracy: 0.651691, Val accuracy: 0.660296\n",
            "     Epoch 9\n",
            "     Average loss: 0.994200, Train accuracy: 0.659608, Val accuracy: 0.679339\n",
            "----------------\n",
            "-- Step 5\n",
            "   lr=0.1, ann_epoch=10, reg=1e-07, optim=rms\n",
            "     Start train\n",
            "     Epoch 0\n",
            "     Average loss: 174771.625000, Train accuracy: 0.183821, Val accuracy: 0.190021\n",
            "     Epoch 1\n",
            "     Average loss: 2.287607, Train accuracy: 0.186039, Val accuracy: 0.190158\n",
            "     Epoch 2\n",
            "     Average loss: 2.274625, Train accuracy: 0.185408, Val accuracy: 0.190226\n",
            "     Epoch 3\n",
            "     Average loss: 103.852478, Train accuracy: 0.183684, Val accuracy: 0.190226\n",
            "     Epoch 4\n",
            "     Average loss: 2.249777, Train accuracy: 0.185101, Val accuracy: 0.190226\n",
            "     Epoch 5\n",
            "     Average loss: 2.263519, Train accuracy: 0.184708, Val accuracy: 0.144359\n",
            "     Epoch 6\n",
            "     Average loss: 2.251274, Train accuracy: 0.184947, Val accuracy: 0.190226\n",
            "     Epoch 7\n",
            "     Average loss: 2.251086, Train accuracy: 0.184827, Val accuracy: 0.190226\n",
            "     Epoch 8\n",
            "     Average loss: 2.249789, Train accuracy: 0.185066, Val accuracy: 0.190226\n",
            "     Epoch 9\n",
            "     Average loss: 2.249449, Train accuracy: 0.186193, Val accuracy: 0.190226\n",
            "----------------\n",
            "-- Step 6\n",
            "   lr=0.01, ann_epoch=20, reg=0.001, optim=adam\n",
            "     Start train\n",
            "     Epoch 0\n",
            "     Average loss: 2.243195, Train accuracy: 0.188428, Val accuracy: 0.190226\n",
            "     Epoch 1\n",
            "     Average loss: 2.240834, Train accuracy: 0.188957, Val accuracy: 0.190226\n",
            "     Epoch 2\n",
            "     Average loss: 2.240790, Train accuracy: 0.188957, Val accuracy: 0.190226\n",
            "     Epoch 3\n",
            "     Average loss: 2.240885, Train accuracy: 0.188957, Val accuracy: 0.190226\n",
            "     Epoch 4\n",
            "     Average loss: 2.240767, Train accuracy: 0.188957, Val accuracy: 0.190226\n",
            "     Epoch 5\n",
            "     Average loss: 2.240756, Train accuracy: 0.188957, Val accuracy: 0.190226\n",
            "     Epoch 6\n",
            "     Average loss: 2.242212, Train accuracy: 0.189008, Val accuracy: 0.190226\n",
            "     Epoch 7\n",
            "     Average loss: 2.240682, Train accuracy: 0.188957, Val accuracy: 0.190226\n",
            "     Epoch 8\n",
            "     Average loss: 2.240538, Train accuracy: 0.188957, Val accuracy: 0.190226\n",
            "     Epoch 9\n",
            "     Average loss: 2.240808, Train accuracy: 0.188957, Val accuracy: 0.190226\n",
            "----------------\n",
            "-- Step 7\n",
            "   lr=0.1, ann_epoch=20, reg=0.001, optim=sgd\n",
            "     Start train\n",
            "     Epoch 0\n",
            "     Average loss: 2.145277, Train accuracy: 0.225728, Val accuracy: 0.348304\n",
            "     Epoch 1\n",
            "     Average loss: 1.575222, Train accuracy: 0.443351, Val accuracy: 0.570268\n",
            "     Epoch 2\n",
            "     Average loss: 1.277837, Train accuracy: 0.561871, Val accuracy: 0.606921\n",
            "     Epoch 3\n",
            "     Average loss: 1.133391, Train accuracy: 0.612412, Val accuracy: 0.583987\n",
            "     Epoch 4\n",
            "     Average loss: 1.057081, Train accuracy: 0.637204, Val accuracy: 0.649580\n",
            "     Epoch 5\n",
            "     Average loss: 1.010853, Train accuracy: 0.655274, Val accuracy: 0.693809\n",
            "     Epoch 6\n",
            "     Average loss: 0.971242, Train accuracy: 0.667252, Val accuracy: 0.683025\n",
            "     Epoch 7\n",
            "     Average loss: 0.950764, Train accuracy: 0.675477, Val accuracy: 0.684663\n",
            "     Epoch 8\n",
            "     Average loss: 0.931467, Train accuracy: 0.679674, Val accuracy: 0.713398\n",
            "     Epoch 9\n",
            "     Average loss: 0.917769, Train accuracy: 0.686568, Val accuracy: 0.683571\n",
            "----------------\n",
            "-- Step 8\n",
            "   lr=0.1, ann_epoch=50, reg=1e-07, optim=adam\n",
            "     Start train\n",
            "     Epoch 0\n",
            "     Average loss: 5.246953, Train accuracy: 0.186329, Val accuracy: 0.190226\n",
            "     Epoch 1\n",
            "     Average loss: 2.248084, Train accuracy: 0.186653, Val accuracy: 0.190226\n",
            "     Epoch 2\n",
            "     Average loss: 2.248530, Train accuracy: 0.186295, Val accuracy: 0.190226\n",
            "     Epoch 3\n",
            "     Average loss: 2.247867, Train accuracy: 0.185851, Val accuracy: 0.190226\n",
            "     Epoch 4\n",
            "     Average loss: 2.248667, Train accuracy: 0.185647, Val accuracy: 0.190226\n",
            "     Epoch 5\n",
            "     Average loss: 2.248694, Train accuracy: 0.186278, Val accuracy: 0.190226\n",
            "     Epoch 6\n",
            "     Average loss: 2.248586, Train accuracy: 0.186278, Val accuracy: 0.190226\n",
            "     Epoch 7\n",
            "     Average loss: 2.248081, Train accuracy: 0.186295, Val accuracy: 0.190226\n",
            "     Epoch 8\n",
            "     Average loss: 2.248624, Train accuracy: 0.185510, Val accuracy: 0.190226\n",
            "     Epoch 9\n",
            "     Average loss: 2.249018, Train accuracy: 0.184896, Val accuracy: 0.190226\n",
            "----------------\n",
            "-- Step 9\n",
            "   lr=0.0001, ann_epoch=50, reg=0.001, optim=rms\n",
            "     Start train\n",
            "     Epoch 0\n",
            "     Average loss: 2.228074, Train accuracy: 0.189742, Val accuracy: 0.224558\n",
            "     Epoch 1\n",
            "     Average loss: 2.096359, Train accuracy: 0.244753, Val accuracy: 0.309330\n",
            "     Epoch 2\n",
            "     Average loss: 1.981834, Train accuracy: 0.296011, Val accuracy: 0.351785\n",
            "     Epoch 3\n",
            "     Average loss: 1.891570, Train accuracy: 0.335017, Val accuracy: 0.392738\n",
            "     Epoch 4\n",
            "     Average loss: 1.817704, Train accuracy: 0.367113, Val accuracy: 0.416286\n",
            "     Epoch 5\n",
            "     Average loss: 1.749792, Train accuracy: 0.391871, Val accuracy: 0.419767\n",
            "     Epoch 6\n",
            "     Average loss: 1.694169, Train accuracy: 0.414292, Val accuracy: 0.457989\n",
            "     Epoch 7\n",
            "     Average loss: 1.635747, Train accuracy: 0.434085, Val accuracy: 0.472732\n",
            "     Epoch 8\n",
            "     Average loss: 1.589305, Train accuracy: 0.448538, Val accuracy: 0.487885\n",
            "     Epoch 9\n",
            "     Average loss: 1.541839, Train accuracy: 0.467990, Val accuracy: 0.499556\n"
          ],
          "name": "stdout"
        }
      ]
    },
    {
      "cell_type": "code",
      "metadata": {
        "colab_type": "code",
        "id": "Y6xExdw8JB1l",
        "colab": {
          "base_uri": "https://localhost:8080/",
          "height": 34
        },
        "outputId": "a1f18f21-033b-444b-ff22-bf1eae64c374"
      },
      "source": [
        "best_val_accuracy = None\n",
        "best_hyperparams = None\n",
        "best_run = None\n",
        "\n",
        "for hyperparams, run_result in run_record.items():\n",
        "    if best_val_accuracy is None or best_val_accuracy < run_result.final_val_accuracy:\n",
        "        best_val_accuracy = run_result.final_val_accuracy\n",
        "        best_hyperparams = hyperparams\n",
        "        best_run = run_result\n",
        "        \n",
        "print(\"Best validation accuracy: %4.2f, best hyperparams: %s\" % (best_val_accuracy, best_hyperparams))\n",
        "        "
      ],
      "execution_count": 64,
      "outputs": [
        {
          "output_type": "stream",
          "text": [
            "Best validation accuracy: 0.69, best hyperparams: Hyperparams(learning_rate=0.1, anneal_epochs=10, reg=0.001, optims='sgd')\n"
          ],
          "name": "stdout"
        }
      ]
    },
    {
      "cell_type": "markdown",
      "metadata": {
        "colab_type": "text",
        "id": "LOmsR0uVgtgf"
      },
      "source": [
        "# Свободное упражнение - догоним и перегоним LeNet!\n",
        "\n",
        "Попробуйте найти архитектуру и настройки тренировки, чтобы выступить лучше наших бейзлайнов.\n",
        "\n",
        "Что можно и нужно попробовать:\n",
        "- BatchNormalization (для convolution layers он в PyTorch называется [batchnorm2d](https://pytorch.org/docs/stable/nn.html#batchnorm2d))\n",
        "- Изменить количество слоев и их толщину\n",
        "- Изменять количество эпох тренировки\n",
        "- Попробовать и другие агментации"
      ]
    },
    {
      "cell_type": "code",
      "metadata": {
        "colab_type": "code",
        "id": "tSVhD747icoc",
        "colab": {}
      },
      "source": [
        "best_model = None"
      ],
      "execution_count": null,
      "outputs": []
    },
    {
      "cell_type": "markdown",
      "metadata": {
        "colab_type": "text",
        "id": "ubeKgBcnhx7N"
      },
      "source": [
        "# Финальный аккорд - проверим лучшую модель на test set\n",
        "\n",
        "В качестве разнообразия - напишите код для прогона модели на test set вы.\n",
        "\n",
        "В результате вы должны натренировать модель, которая покажет более **90%** точности на test set.  \n",
        "Как водится, лучший результат в группе получит дополнительные баллы!"
      ]
    },
    {
      "cell_type": "code",
      "metadata": {
        "colab_type": "code",
        "id": "EIqM1kdeh-hd",
        "colab": {}
      },
      "source": [
        "# TODO Write the code to compute accuracy on test set\n",
        "final_test_accuracy = 0.0\n",
        "print(\"Final test accuracy - \", final_test_accuracy)"
      ],
      "execution_count": null,
      "outputs": []
    },
    {
      "cell_type": "code",
      "metadata": {
        "colab_type": "code",
        "id": "BfH6qip6kVX_",
        "colab": {}
      },
      "source": [
        ""
      ],
      "execution_count": null,
      "outputs": []
    }
  ]
}