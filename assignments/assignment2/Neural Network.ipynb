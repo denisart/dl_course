{
 "cells": [
  {
   "cell_type": "markdown",
   "metadata": {},
   "source": [
    "# Задание 2.1 - Нейронные сети\n",
    "\n",
    "В этом задании вы реализуете и натренируете настоящую нейроную сеть своими руками!\n",
    "\n",
    "В некотором смысле это будет расширением прошлого задания - нам нужно просто составить несколько линейных классификаторов вместе!\n",
    "\n",
    "<img src=\"https://i.redd.it/n9fgba8b0qr01.png\" alt=\"Stack_more_layers\" width=\"400px\"/>"
   ]
  },
  {
   "cell_type": "code",
   "execution_count": 1,
   "metadata": {},
   "outputs": [],
   "source": [
    "import numpy as np\n",
    "import matplotlib.pyplot as plt\n",
    "\n",
    "%matplotlib inline\n",
    "\n",
    "%load_ext autoreload\n",
    "%autoreload 2"
   ]
  },
  {
   "cell_type": "code",
   "execution_count": 2,
   "metadata": {},
   "outputs": [],
   "source": [
    "from dataset import (load_svhn, random_split_train_val)\n",
    "from gradient_check import (check_layer_gradient, check_layer_param_gradient, check_model_gradient)\n",
    "from layers import (FullyConnectedLayer, ReLULayer)\n",
    "from model import (TwoLayerNet)\n",
    "from trainer import (Trainer, Dataset)\n",
    "from optim import (SGD, MomentumSGD)\n",
    "from metrics import (multiclass_accuracy)"
   ]
  },
  {
   "cell_type": "markdown",
   "metadata": {},
   "source": [
    "# Загружаем данные\n",
    "\n",
    "И разделяем их на training и validation."
   ]
  },
  {
   "cell_type": "code",
   "execution_count": 3,
   "metadata": {},
   "outputs": [],
   "source": [
    "def prepare_for_neural_network(train_X, test_X):\n",
    "    train_flat = train_X.reshape(train_X.shape[0], -1).astype(np.float) / 255.0\n",
    "    test_flat = test_X.reshape(test_X.shape[0], -1).astype(np.float) / 255.0\n",
    "    \n",
    "    # Subtract mean\n",
    "    mean_image = np.mean(train_flat, axis = 0)\n",
    "    train_flat -= mean_image\n",
    "    test_flat -= mean_image\n",
    "    \n",
    "    return train_flat, test_flat\n",
    "    \n",
    "train_X, train_y, test_X, test_y = load_svhn(\"data\", max_train=10000, max_test=1000)    \n",
    "train_X, test_X = prepare_for_neural_network(train_X, test_X)\n",
    "# Split train into train and val\n",
    "train_X, train_y, val_X, val_y = random_split_train_val(train_X, train_y, num_val = 1000)"
   ]
  },
  {
   "cell_type": "markdown",
   "metadata": {},
   "source": [
    "# Как всегда, начинаем с кирпичиков\n",
    "\n",
    "Мы будем реализовывать необходимые нам слои по очереди. Каждый слой должен реализовать:\n",
    "- прямой проход (forward pass), который генерирует выход слоя по входу и запоминает необходимые данные\n",
    "- обратный проход (backward pass), который получает градиент по выходу слоя и вычисляет градиент по входу и по параметрам\n",
    "\n",
    "Начнем с ReLU, у которого параметров нет."
   ]
  },
  {
   "cell_type": "code",
   "execution_count": 4,
   "metadata": {},
   "outputs": [
    {
     "name": "stdout",
     "output_type": "stream",
     "text": [
      "Gradient check passed!\n"
     ]
    }
   ],
   "source": [
    "# TODO: Implement ReLULayer layer in layers.py\n",
    "# Note: you'll need to copy implementation of the gradient_check function from the previous assignment\n",
    "\n",
    "X = np.array([[1,-2,3],\n",
    "              [-1, 2, 0.1]])\n",
    "\n",
    "assert check_layer_gradient(ReLULayer(), X)"
   ]
  },
  {
   "cell_type": "markdown",
   "metadata": {},
   "source": [
    "А теперь реализуем полносвязный слой (fully connected layer), у которого будет два массива параметров: W (weights) и B (bias).\n",
    "\n",
    "Все параметры наши слои будут использовать для параметров специальный класс `Param`, в котором будут храниться значения параметров и градиенты этих параметров, вычисляемые во время обратного прохода.\n",
    "\n",
    "Это даст возможность аккумулировать (суммировать) градиенты из разных частей функции потерь, например, из cross-entropy loss и regularization loss."
   ]
  },
  {
   "cell_type": "code",
   "execution_count": 5,
   "metadata": {},
   "outputs": [
    {
     "name": "stdout",
     "output_type": "stream",
     "text": [
      "Gradient check passed!\n",
      "Gradient check passed!\n",
      "Gradient check passed!\n"
     ]
    }
   ],
   "source": [
    "# TODO: Implement FullyConnected layer forward and backward methods\n",
    "assert check_layer_gradient(FullyConnectedLayer(3, 4), X)\n",
    "# TODO: Implement storing gradients for W and B\n",
    "assert check_layer_param_gradient(FullyConnectedLayer(3, 4), X, 'W')\n",
    "assert check_layer_param_gradient(FullyConnectedLayer(3, 4), X, 'B')"
   ]
  },
  {
   "cell_type": "markdown",
   "metadata": {},
   "source": [
    "## Создаем нейронную сеть\n",
    "\n",
    "Теперь мы реализуем простейшую нейронную сеть с двумя полносвязным слоями и нелинейностью ReLU. Реализуйте функцию `compute_loss_and_gradients`, она должна запустить прямой и обратный проход через оба слоя для вычисления градиентов.\n",
    "\n",
    "Не забудьте реализовать очистку градиентов в начале функции."
   ]
  },
  {
   "cell_type": "code",
   "execution_count": 6,
   "metadata": {},
   "outputs": [
    {
     "name": "stdout",
     "output_type": "stream",
     "text": [
      "Checking gradient for W1\n",
      "Gradient check passed!\n",
      "Checking gradient for B1\n",
      "Gradient check passed!\n",
      "Checking gradient for W2\n",
      "Gradient check passed!\n",
      "Checking gradient for B2\n",
      "Gradient check passed!\n"
     ]
    },
    {
     "data": {
      "text/plain": [
       "True"
      ]
     },
     "execution_count": 6,
     "metadata": {},
     "output_type": "execute_result"
    }
   ],
   "source": [
    "# TODO: In model.py, implement compute_loss_and_gradients function\n",
    "model = TwoLayerNet(n_input = train_X.shape[1], n_output = 10, hidden_layer_size = 3, reg = 0)\n",
    "loss = model.compute_loss_and_gradients(train_X[:2], train_y[:2])\n",
    "\n",
    "# TODO Now implement backward pass and aggregate all of the params\n",
    "check_model_gradient(model, train_X[:2], train_y[:2])"
   ]
  },
  {
   "cell_type": "markdown",
   "metadata": {},
   "source": [
    "Теперь добавьте к модели регуляризацию - она должна прибавляться к loss и делать свой вклад в градиенты."
   ]
  },
  {
   "cell_type": "code",
   "execution_count": 7,
   "metadata": {},
   "outputs": [
    {
     "name": "stdout",
     "output_type": "stream",
     "text": [
      "Checking gradient for W1\n",
      "Gradient check passed!\n",
      "Checking gradient for B1\n",
      "Gradient check passed!\n",
      "Checking gradient for W2\n",
      "Gradient check passed!\n",
      "Checking gradient for B2\n",
      "Gradient check passed!\n"
     ]
    },
    {
     "data": {
      "text/plain": [
       "True"
      ]
     },
     "execution_count": 7,
     "metadata": {},
     "output_type": "execute_result"
    }
   ],
   "source": [
    "# TODO Now implement l2 regularization in the forward and backward pass\n",
    "model_with_reg = TwoLayerNet(n_input = train_X.shape[1], n_output = 10, hidden_layer_size = 3, reg = 1e1)\n",
    "loss_with_reg = model_with_reg.compute_loss_and_gradients(train_X[:2], train_y[:2])\n",
    "assert loss_with_reg > loss and not np.isclose(loss_with_reg, loss), \\\n",
    "    \"Loss with regularization (%2.4f) should be higher than without it (%2.4f)!\" % (loss, loss_with_reg)\n",
    "\n",
    "check_model_gradient(model_with_reg, train_X[:2], train_y[:2])"
   ]
  },
  {
   "cell_type": "markdown",
   "metadata": {},
   "source": [
    "Также реализуем функцию предсказания (вычисления значения) модели на новых данных.\n",
    "\n",
    "Какое значение точности мы ожидаем увидеть до начала тренировки?"
   ]
  },
  {
   "cell_type": "code",
   "execution_count": 8,
   "metadata": {},
   "outputs": [
    {
     "data": {
      "text/plain": [
       "0.1"
      ]
     },
     "execution_count": 8,
     "metadata": {},
     "output_type": "execute_result"
    }
   ],
   "source": [
    "# Finally, implement predict function!\n",
    "\n",
    "# TODO: Implement predict function\n",
    "# What would be the value we expect?\n",
    "multiclass_accuracy(model_with_reg.predict(train_X[:30]), train_y[:30]) "
   ]
  },
  {
   "cell_type": "markdown",
   "metadata": {},
   "source": [
    "# Допишем код для процесса тренировки\n",
    "\n",
    "Если все реализовано корректно, значение функции ошибки должно уменьшаться с каждой эпохой, пусть и медленно. Не беспокойтесь пока про validation accuracy."
   ]
  },
  {
   "cell_type": "code",
   "execution_count": 9,
   "metadata": {},
   "outputs": [
    {
     "name": "stdout",
     "output_type": "stream",
     "text": [
      "Epoch:  0, Loss: 2.302029, Train acc: 0.196667, Val acc: 0.206000\n",
      "Epoch:  1, Loss: 2.301685, Train acc: 0.196667, Val acc: 0.206000\n",
      "Epoch:  2, Loss: 2.301851, Train acc: 0.148222, Val acc: 0.140000\n",
      "Epoch:  3, Loss: 2.302623, Train acc: 0.196667, Val acc: 0.206000\n",
      "Epoch:  4, Loss: 2.302031, Train acc: 0.196667, Val acc: 0.206000\n",
      "Epoch:  5, Loss: 2.301124, Train acc: 0.196667, Val acc: 0.206000\n",
      "Epoch:  6, Loss: 2.302831, Train acc: 0.196667, Val acc: 0.206000\n",
      "Epoch:  7, Loss: 2.301638, Train acc: 0.196667, Val acc: 0.206000\n",
      "Epoch:  8, Loss: 2.302170, Train acc: 0.196667, Val acc: 0.206000\n",
      "Epoch:  9, Loss: 2.302117, Train acc: 0.196667, Val acc: 0.206000\n",
      "Epoch: 10, Loss: 2.302455, Train acc: 0.196667, Val acc: 0.206000\n",
      "Epoch: 11, Loss: 2.302807, Train acc: 0.196667, Val acc: 0.206000\n",
      "Epoch: 12, Loss: 2.302832, Train acc: 0.196667, Val acc: 0.206000\n",
      "Epoch: 13, Loss: 2.302390, Train acc: 0.196667, Val acc: 0.206000\n",
      "Epoch: 14, Loss: 2.303278, Train acc: 0.196667, Val acc: 0.206000\n",
      "Epoch: 15, Loss: 2.301772, Train acc: 0.196667, Val acc: 0.206000\n",
      "Epoch: 16, Loss: 2.302333, Train acc: 0.196667, Val acc: 0.206000\n",
      "Epoch: 17, Loss: 2.302433, Train acc: 0.148222, Val acc: 0.140000\n",
      "Epoch: 18, Loss: 2.301941, Train acc: 0.196667, Val acc: 0.206000\n",
      "Epoch: 19, Loss: 2.302173, Train acc: 0.196667, Val acc: 0.206000\n"
     ]
    }
   ],
   "source": [
    "model = TwoLayerNet(n_input = train_X.shape[1], n_output = 10, hidden_layer_size = 100, reg = 1e1)\n",
    "dataset = Dataset(train_X, train_y, val_X, val_y)\n",
    "trainer = Trainer(model, dataset, SGD(), learning_rate = 1e-2)\n",
    "\n",
    "# TODO Implement missing pieces in Trainer.fit function\n",
    "# You should expect loss to go down every epoch, even if it's slow\n",
    "loss_history, train_history, val_history = trainer.fit()"
   ]
  },
  {
   "cell_type": "code",
   "execution_count": 10,
   "metadata": {},
   "outputs": [
    {
     "data": {
      "text/plain": [
       "[<matplotlib.lines.Line2D at 0x7f21e21a2710>]"
      ]
     },
     "execution_count": 10,
     "metadata": {},
     "output_type": "execute_result"
    },
    {
     "data": {
      "image/png": "[encoded data removed]",
      "text/plain": [
       "<Figure size 432x288 with 1 Axes>"
      ]
     },
     "metadata": {
      "needs_background": "light"
     },
     "output_type": "display_data"
    }
   ],
   "source": [
    "plt.plot(train_history)\n",
    "plt.plot(val_history)"
   ]
  },
  {
   "cell_type": "code",
   "execution_count": 11,
   "metadata": {},
   "outputs": [
    {
     "data": {
      "text/plain": [
       "[<matplotlib.lines.Line2D at 0x7f21d2e4b6d0>]"
      ]
     },
     "execution_count": 11,
     "metadata": {},
     "output_type": "execute_result"
    },
    {
     "data": {
      "image/png": "[encoded data removed]",
      "text/plain": [
       "<Figure size 432x288 with 1 Axes>"
      ]
     },
     "metadata": {
      "needs_background": "light"
     },
     "output_type": "display_data"
    }
   ],
   "source": [
    "plt.plot(loss_history)"
   ]
  },
  {
   "cell_type": "markdown",
   "metadata": {},
   "source": [
    "# Улучшаем процесс тренировки\n",
    "\n",
    "Мы реализуем несколько ключевых оптимизаций, необходимых для тренировки современных нейросетей."
   ]
  },
  {
   "cell_type": "markdown",
   "metadata": {},
   "source": [
    "## Уменьшение скорости обучения (learning rate decay)\n",
    "\n",
    "Одна из необходимых оптимизаций во время тренировки нейронных сетей - постепенное уменьшение скорости обучения по мере тренировки.\n",
    "\n",
    "Один из стандартных методов - уменьшение скорости обучения (learning rate) каждые N эпох на коэффициент d (часто называемый decay). Значения N и d, как всегда, являются гиперпараметрами и должны подбираться на основе эффективности на проверочных данных (validation data). \n",
    "\n",
    "В нашем случае N будет равным 1."
   ]
  },
  {
   "cell_type": "code",
   "execution_count": 12,
   "metadata": {},
   "outputs": [
    {
     "name": "stdout",
     "output_type": "stream",
     "text": [
      "Epoch:  0, Loss: 2.275985, Train acc: 0.196667, Val acc: 0.206000\n",
      "Epoch:  1, Loss: 2.347515, Train acc: 0.196667, Val acc: 0.206000\n",
      "Epoch:  2, Loss: 2.264348, Train acc: 0.196667, Val acc: 0.206000\n",
      "Epoch:  3, Loss: 2.287890, Train acc: 0.196667, Val acc: 0.206000\n",
      "Epoch:  4, Loss: 2.253264, Train acc: 0.196667, Val acc: 0.206000\n",
      "Epoch:  5, Loss: 2.265011, Train acc: 0.196667, Val acc: 0.206000\n",
      "Epoch:  6, Loss: 2.212698, Train acc: 0.196667, Val acc: 0.206000\n",
      "Epoch:  7, Loss: 2.320777, Train acc: 0.196667, Val acc: 0.206000\n",
      "Epoch:  8, Loss: 2.302624, Train acc: 0.196667, Val acc: 0.206000\n",
      "Epoch:  9, Loss: 2.311032, Train acc: 0.196667, Val acc: 0.206000\n",
      "Epoch: 10, Loss: 2.234316, Train acc: 0.196667, Val acc: 0.206000\n",
      "Epoch: 11, Loss: 2.283390, Train acc: 0.196667, Val acc: 0.206000\n",
      "Epoch: 12, Loss: 2.353994, Train acc: 0.196667, Val acc: 0.206000\n",
      "Epoch: 13, Loss: 2.217454, Train acc: 0.196667, Val acc: 0.206000\n",
      "Epoch: 14, Loss: 2.378711, Train acc: 0.196667, Val acc: 0.206000\n",
      "Epoch: 15, Loss: 2.256101, Train acc: 0.196667, Val acc: 0.206000\n",
      "Epoch: 16, Loss: 2.309860, Train acc: 0.196667, Val acc: 0.206000\n",
      "Epoch: 17, Loss: 2.264767, Train acc: 0.196667, Val acc: 0.206000\n",
      "Epoch: 18, Loss: 2.276485, Train acc: 0.196667, Val acc: 0.206000\n",
      "Epoch: 19, Loss: 2.274562, Train acc: 0.196667, Val acc: 0.206000\n"
     ]
    }
   ],
   "source": [
    "# TODO Implement learning rate decay inside Trainer.fit method\n",
    "# Decay should happen once per epoch\n",
    "\n",
    "model = TwoLayerNet(n_input = train_X.shape[1], n_output = 10, hidden_layer_size = 100, reg = 1e-1)\n",
    "dataset = Dataset(train_X, train_y, val_X, val_y)\n",
    "trainer = Trainer(model, dataset, SGD(), learning_rate_decay=0.99)\n",
    "\n",
    "initial_learning_rate = trainer.learning_rate\n",
    "loss_history, train_history, val_history = trainer.fit()\n",
    "\n",
    "assert trainer.learning_rate < initial_learning_rate, \"Learning rate should've been reduced\"\n",
    "assert trainer.learning_rate > 0.5*initial_learning_rate, \"Learning rate shouldn'tve been reduced that much!\""
   ]
  },
  {
   "cell_type": "code",
   "execution_count": 13,
   "metadata": {},
   "outputs": [
    {
     "data": {
      "text/plain": [
       "[<matplotlib.lines.Line2D at 0x7f21d2dcac10>]"
      ]
     },
     "execution_count": 13,
     "metadata": {},
     "output_type": "execute_result"
    },
    {
     "data": {
      "image/png": "[encoded data removed]",
      "text/plain": [
       "<Figure size 432x288 with 1 Axes>"
      ]
     },
     "metadata": {
      "needs_background": "light"
     },
     "output_type": "display_data"
    }
   ],
   "source": [
    "plt.plot(train_history)\n",
    "plt.plot(val_history)"
   ]
  },
  {
   "cell_type": "code",
   "execution_count": 14,
   "metadata": {},
   "outputs": [
    {
     "data": {
      "text/plain": [
       "[<matplotlib.lines.Line2D at 0x7f21d2db6810>]"
      ]
     },
     "execution_count": 14,
     "metadata": {},
     "output_type": "execute_result"
    },
    {
     "data": {
      "image/png": "[encoded data removed]",
      "text/plain": [
       "<Figure size 432x288 with 1 Axes>"
      ]
     },
     "metadata": {
      "needs_background": "light"
     },
     "output_type": "display_data"
    }
   ],
   "source": [
    "plt.plot(loss_history)"
   ]
  },
  {
   "cell_type": "markdown",
   "metadata": {},
   "source": [
    "# Накопление импульса (Momentum SGD)\n",
    "\n",
    "Другой большой класс оптимизаций - использование более эффективных методов градиентного спуска. Мы реализуем один из них - накопление импульса (Momentum SGD).\n",
    "\n",
    "Этот метод хранит скорость движения, использует градиент для ее изменения на каждом шаге, и изменяет веса пропорционально значению скорости.\n",
    "(Физическая аналогия: Вместо скорости градиенты теперь будут задавать ускорение, но будет присутствовать сила трения.)\n",
    "\n",
    "```\n",
    "velocity = momentum * velocity - learning_rate * gradient \n",
    "w = w + velocity\n",
    "```\n",
    "\n",
    "`momentum` здесь коэффициент затухания, который тоже является гиперпараметром (к счастью, для него часто есть хорошее значение по умолчанию, типичный диапазон -- 0.8-0.99).\n",
    "\n",
    "Несколько полезных ссылок, где метод разбирается более подробно:  \n",
    "http://cs231n.github.io/neural-networks-3/#sgd  \n",
    "https://distill.pub/2017/momentum/"
   ]
  },
  {
   "cell_type": "code",
   "execution_count": 19,
   "metadata": {},
   "outputs": [
    {
     "name": "stdout",
     "output_type": "stream",
     "text": [
      "Epoch:  0, Loss: 2.324004, Train acc: 0.196667, Val acc: 0.206000\n",
      "Epoch:  1, Loss: 2.311237, Train acc: 0.196667, Val acc: 0.206000\n",
      "Epoch:  2, Loss: 2.300957, Train acc: 0.196667, Val acc: 0.206000\n",
      "Epoch:  3, Loss: 2.299895, Train acc: 0.196667, Val acc: 0.206000\n",
      "Epoch:  4, Loss: 2.275075, Train acc: 0.196667, Val acc: 0.206000\n",
      "Epoch:  5, Loss: 2.306803, Train acc: 0.196667, Val acc: 0.206000\n",
      "Epoch:  6, Loss: 2.279636, Train acc: 0.196667, Val acc: 0.206000\n",
      "Epoch:  7, Loss: 2.273357, Train acc: 0.196667, Val acc: 0.206000\n",
      "Epoch:  8, Loss: 2.266933, Train acc: 0.196667, Val acc: 0.206000\n",
      "Epoch:  9, Loss: 2.259063, Train acc: 0.196667, Val acc: 0.206000\n",
      "Epoch: 10, Loss: 2.309491, Train acc: 0.196667, Val acc: 0.206000\n",
      "Epoch: 11, Loss: 2.285662, Train acc: 0.196667, Val acc: 0.206000\n",
      "Epoch: 12, Loss: 2.225789, Train acc: 0.196667, Val acc: 0.206000\n",
      "Epoch: 13, Loss: 2.299766, Train acc: 0.196667, Val acc: 0.206000\n",
      "Epoch: 14, Loss: 2.288404, Train acc: 0.196667, Val acc: 0.206000\n",
      "Epoch: 15, Loss: 2.281351, Train acc: 0.196667, Val acc: 0.206000\n",
      "Epoch: 16, Loss: 2.269190, Train acc: 0.196667, Val acc: 0.206000\n",
      "Epoch: 17, Loss: 2.238219, Train acc: 0.196667, Val acc: 0.206000\n",
      "Epoch: 18, Loss: 2.275786, Train acc: 0.196667, Val acc: 0.206000\n",
      "Epoch: 19, Loss: 2.292217, Train acc: 0.196667, Val acc: 0.206000\n"
     ]
    }
   ],
   "source": [
    "# TODO: Implement MomentumSGD.update function in optim.py\n",
    "\n",
    "model = TwoLayerNet(n_input = train_X.shape[1], n_output = 10, hidden_layer_size = 100, reg = 1e-1)\n",
    "dataset = Dataset(train_X, train_y, val_X, val_y)\n",
    "trainer = Trainer(model, dataset, MomentumSGD(), learning_rate=1e-4, learning_rate_decay=0.99)\n",
    "\n",
    "# You should see even better results than before!\n",
    "loss_history, train_history, val_history = trainer.fit()"
   ]
  },
  {
   "cell_type": "code",
   "execution_count": 20,
   "metadata": {},
   "outputs": [
    {
     "data": {
      "text/plain": [
       "[<matplotlib.lines.Line2D at 0x7f21d2b9aa90>]"
      ]
     },
     "execution_count": 20,
     "metadata": {},
     "output_type": "execute_result"
    },
    {
     "data": {
      "image/png": "[encoded data removed]",
      "text/plain": [
       "<Figure size 432x288 with 1 Axes>"
      ]
     },
     "metadata": {
      "needs_background": "light"
     },
     "output_type": "display_data"
    }
   ],
   "source": [
    "plt.plot(train_history)\n",
    "plt.plot(val_history)"
   ]
  },
  {
   "cell_type": "code",
   "execution_count": 21,
   "metadata": {},
   "outputs": [
    {
     "data": {
      "text/plain": [
       "[<matplotlib.lines.Line2D at 0x7f21d2b045d0>]"
      ]
     },
     "execution_count": 21,
     "metadata": {},
     "output_type": "execute_result"
    },
    {
     "data": {
      "image/png": "[encoded data removed]",
      "text/plain": [
       "<Figure size 432x288 with 1 Axes>"
      ]
     },
     "metadata": {
      "needs_background": "light"
     },
     "output_type": "display_data"
    }
   ],
   "source": [
    "plt.plot(loss_history)"
   ]
  },
  {
   "cell_type": "markdown",
   "metadata": {},
   "source": [
    "# Ну что, давайте уже тренировать сеть!"
   ]
  },
  {
   "cell_type": "markdown",
   "metadata": {},
   "source": [
    "## Последний тест - переобучимся (overfit) на маленьком наборе данных\n",
    "\n",
    "Хороший способ проверить, все ли реализовано корректно - переобучить сеть на маленьком наборе данных.  \n",
    "Наша модель обладает достаточной мощностью, чтобы приблизить маленький набор данных идеально, поэтому мы ожидаем, что на нем мы быстро дойдем до 100% точности на тренировочном наборе. \n",
    "\n",
    "Если этого не происходит, то где-то была допущена ошибка!"
   ]
  },
  {
   "cell_type": "code",
   "execution_count": 22,
   "metadata": {},
   "outputs": [
    {
     "name": "stdout",
     "output_type": "stream",
     "text": [
      "Epoch:  0, Loss: 2.331019, Train acc: 0.200000, Val acc: 0.133333\n",
      "Epoch:  1, Loss: 2.335985, Train acc: 0.200000, Val acc: 0.133333\n",
      "Epoch:  2, Loss: 2.298637, Train acc: 0.200000, Val acc: 0.133333\n",
      "Epoch:  3, Loss: 2.285474, Train acc: 0.200000, Val acc: 0.133333\n",
      "Epoch:  4, Loss: 2.286775, Train acc: 0.200000, Val acc: 0.133333\n",
      "Epoch:  5, Loss: 2.286358, Train acc: 0.200000, Val acc: 0.133333\n",
      "Epoch:  6, Loss: 2.237847, Train acc: 0.200000, Val acc: 0.066667\n",
      "Epoch:  7, Loss: 2.263365, Train acc: 0.266667, Val acc: 0.000000\n",
      "Epoch:  8, Loss: 2.108753, Train acc: 0.266667, Val acc: 0.000000\n",
      "Epoch:  9, Loss: 2.026698, Train acc: 0.400000, Val acc: 0.000000\n",
      "Epoch: 10, Loss: 2.455662, Train acc: 0.400000, Val acc: 0.000000\n",
      "Epoch: 11, Loss: 1.912788, Train acc: 0.400000, Val acc: 0.000000\n",
      "Epoch: 12, Loss: 1.872617, Train acc: 0.400000, Val acc: 0.000000\n",
      "Epoch: 13, Loss: 1.673732, Train acc: 0.400000, Val acc: 0.000000\n",
      "Epoch: 14, Loss: 1.976140, Train acc: 0.333333, Val acc: 0.000000\n",
      "Epoch: 15, Loss: 1.642823, Train acc: 0.333333, Val acc: 0.000000\n",
      "Epoch: 16, Loss: 1.749689, Train acc: 0.333333, Val acc: 0.000000\n",
      "Epoch: 17, Loss: 1.715758, Train acc: 0.333333, Val acc: 0.000000\n",
      "Epoch: 18, Loss: 1.991375, Train acc: 0.400000, Val acc: 0.000000\n",
      "Epoch: 19, Loss: 1.822243, Train acc: 0.400000, Val acc: 0.000000\n",
      "Epoch: 20, Loss: 2.376594, Train acc: 0.400000, Val acc: 0.000000\n",
      "Epoch: 21, Loss: 1.886669, Train acc: 0.400000, Val acc: 0.066667\n",
      "Epoch: 22, Loss: 2.232104, Train acc: 0.466667, Val acc: 0.000000\n",
      "Epoch: 23, Loss: 2.411797, Train acc: 0.466667, Val acc: 0.066667\n",
      "Epoch: 24, Loss: 1.636193, Train acc: 0.400000, Val acc: 0.000000\n",
      "Epoch: 25, Loss: 2.005108, Train acc: 0.466667, Val acc: 0.066667\n",
      "Epoch: 26, Loss: 1.515491, Train acc: 0.466667, Val acc: 0.066667\n",
      "Epoch: 27, Loss: 1.745314, Train acc: 0.533333, Val acc: 0.066667\n",
      "Epoch: 28, Loss: 1.818123, Train acc: 0.600000, Val acc: 0.066667\n",
      "Epoch: 29, Loss: 1.611290, Train acc: 0.600000, Val acc: 0.000000\n",
      "Epoch: 30, Loss: 1.767981, Train acc: 0.600000, Val acc: 0.000000\n",
      "Epoch: 31, Loss: 1.520789, Train acc: 0.533333, Val acc: 0.000000\n",
      "Epoch: 32, Loss: 1.723153, Train acc: 0.600000, Val acc: 0.000000\n",
      "Epoch: 33, Loss: 1.883336, Train acc: 0.533333, Val acc: 0.066667\n",
      "Epoch: 34, Loss: 1.334855, Train acc: 0.600000, Val acc: 0.000000\n",
      "Epoch: 35, Loss: 1.781882, Train acc: 0.666667, Val acc: 0.000000\n",
      "Epoch: 36, Loss: 1.455004, Train acc: 0.533333, Val acc: 0.000000\n",
      "Epoch: 37, Loss: 1.422465, Train acc: 0.600000, Val acc: 0.000000\n",
      "Epoch: 38, Loss: 1.749422, Train acc: 0.733333, Val acc: 0.066667\n",
      "Epoch: 39, Loss: 1.843791, Train acc: 0.666667, Val acc: 0.066667\n",
      "Epoch: 40, Loss: 2.087192, Train acc: 0.666667, Val acc: 0.066667\n",
      "Epoch: 41, Loss: 1.545546, Train acc: 0.666667, Val acc: 0.066667\n",
      "Epoch: 42, Loss: 1.344869, Train acc: 0.600000, Val acc: 0.000000\n",
      "Epoch: 43, Loss: 1.390913, Train acc: 0.600000, Val acc: 0.000000\n",
      "Epoch: 44, Loss: 1.146379, Train acc: 0.666667, Val acc: 0.066667\n",
      "Epoch: 45, Loss: 1.401331, Train acc: 0.666667, Val acc: 0.066667\n",
      "Epoch: 46, Loss: 1.598620, Train acc: 0.666667, Val acc: 0.066667\n",
      "Epoch: 47, Loss: 1.708440, Train acc: 0.666667, Val acc: 0.066667\n",
      "Epoch: 48, Loss: 1.142925, Train acc: 0.666667, Val acc: 0.066667\n",
      "Epoch: 49, Loss: 1.681557, Train acc: 0.733333, Val acc: 0.066667\n",
      "Epoch: 50, Loss: 1.748049, Train acc: 0.733333, Val acc: 0.000000\n",
      "Epoch: 51, Loss: 1.173096, Train acc: 0.733333, Val acc: 0.066667\n",
      "Epoch: 52, Loss: 1.276577, Train acc: 0.733333, Val acc: 0.066667\n",
      "Epoch: 53, Loss: 1.419254, Train acc: 0.733333, Val acc: 0.066667\n",
      "Epoch: 54, Loss: 1.110647, Train acc: 0.733333, Val acc: 0.066667\n",
      "Epoch: 55, Loss: 1.588383, Train acc: 0.733333, Val acc: 0.000000\n",
      "Epoch: 56, Loss: 1.898878, Train acc: 0.733333, Val acc: 0.066667\n",
      "Epoch: 57, Loss: 1.329241, Train acc: 0.733333, Val acc: 0.066667\n",
      "Epoch: 58, Loss: 1.261527, Train acc: 0.733333, Val acc: 0.066667\n",
      "Epoch: 59, Loss: 1.617990, Train acc: 0.733333, Val acc: 0.066667\n",
      "Epoch: 60, Loss: 1.712553, Train acc: 0.733333, Val acc: 0.066667\n",
      "Epoch: 61, Loss: 1.332113, Train acc: 0.733333, Val acc: 0.066667\n",
      "Epoch: 62, Loss: 1.282606, Train acc: 0.733333, Val acc: 0.066667\n",
      "Epoch: 63, Loss: 1.083654, Train acc: 0.733333, Val acc: 0.066667\n",
      "Epoch: 64, Loss: 0.852171, Train acc: 0.733333, Val acc: 0.066667\n",
      "Epoch: 65, Loss: 0.998362, Train acc: 0.733333, Val acc: 0.066667\n",
      "Epoch: 66, Loss: 1.765349, Train acc: 0.733333, Val acc: 0.066667\n",
      "Epoch: 67, Loss: 1.327595, Train acc: 0.733333, Val acc: 0.066667\n",
      "Epoch: 68, Loss: 1.390269, Train acc: 0.733333, Val acc: 0.066667\n",
      "Epoch: 69, Loss: 1.573575, Train acc: 0.733333, Val acc: 0.066667\n",
      "Epoch: 70, Loss: 1.391548, Train acc: 0.733333, Val acc: 0.066667\n",
      "Epoch: 71, Loss: 1.375982, Train acc: 0.800000, Val acc: 0.066667\n",
      "Epoch: 72, Loss: 1.607259, Train acc: 0.800000, Val acc: 0.066667\n",
      "Epoch: 73, Loss: 1.345251, Train acc: 0.800000, Val acc: 0.066667\n",
      "Epoch: 74, Loss: 1.785234, Train acc: 0.800000, Val acc: 0.066667\n",
      "Epoch: 75, Loss: 1.372025, Train acc: 0.800000, Val acc: 0.066667\n",
      "Epoch: 76, Loss: 1.513679, Train acc: 0.800000, Val acc: 0.066667\n",
      "Epoch: 77, Loss: 1.481505, Train acc: 0.800000, Val acc: 0.066667\n",
      "Epoch: 78, Loss: 1.603282, Train acc: 0.800000, Val acc: 0.066667\n",
      "Epoch: 79, Loss: 1.300316, Train acc: 0.800000, Val acc: 0.066667\n",
      "Epoch: 80, Loss: 0.851736, Train acc: 0.800000, Val acc: 0.066667\n",
      "Epoch: 81, Loss: 1.203774, Train acc: 0.800000, Val acc: 0.066667\n",
      "Epoch: 82, Loss: 1.243753, Train acc: 0.800000, Val acc: 0.066667\n",
      "Epoch: 83, Loss: 1.260533, Train acc: 0.800000, Val acc: 0.066667\n",
      "Epoch: 84, Loss: 1.298650, Train acc: 0.800000, Val acc: 0.066667\n",
      "Epoch: 85, Loss: 1.620580, Train acc: 0.866667, Val acc: 0.066667\n",
      "Epoch: 86, Loss: 1.372182, Train acc: 0.800000, Val acc: 0.066667\n",
      "Epoch: 87, Loss: 1.005788, Train acc: 0.866667, Val acc: 0.066667\n",
      "Epoch: 88, Loss: 1.676831, Train acc: 0.800000, Val acc: 0.066667\n",
      "Epoch: 89, Loss: 1.685333, Train acc: 0.866667, Val acc: 0.066667\n",
      "Epoch: 90, Loss: 1.300437, Train acc: 0.866667, Val acc: 0.066667\n",
      "Epoch: 91, Loss: 1.159146, Train acc: 0.866667, Val acc: 0.066667\n",
      "Epoch: 92, Loss: 1.282488, Train acc: 0.866667, Val acc: 0.066667\n",
      "Epoch: 93, Loss: 1.505825, Train acc: 0.866667, Val acc: 0.066667\n",
      "Epoch: 94, Loss: 1.548900, Train acc: 0.866667, Val acc: 0.066667\n",
      "Epoch: 95, Loss: 1.250500, Train acc: 0.866667, Val acc: 0.066667\n",
      "Epoch: 96, Loss: 1.189215, Train acc: 0.866667, Val acc: 0.066667\n",
      "Epoch: 97, Loss: 1.321088, Train acc: 0.866667, Val acc: 0.066667\n",
      "Epoch: 98, Loss: 1.699261, Train acc: 0.866667, Val acc: 0.066667\n",
      "Epoch: 99, Loss: 1.537673, Train acc: 0.866667, Val acc: 0.066667\n",
      "Epoch: 100, Loss: 1.506504, Train acc: 0.866667, Val acc: 0.066667\n",
      "Epoch: 101, Loss: 1.366928, Train acc: 0.866667, Val acc: 0.066667\n",
      "Epoch: 102, Loss: 1.516818, Train acc: 0.866667, Val acc: 0.066667\n",
      "Epoch: 103, Loss: 1.268452, Train acc: 0.866667, Val acc: 0.066667\n",
      "Epoch: 104, Loss: 1.536970, Train acc: 0.866667, Val acc: 0.066667\n",
      "Epoch: 105, Loss: 1.199157, Train acc: 0.866667, Val acc: 0.066667\n",
      "Epoch: 106, Loss: 1.541892, Train acc: 1.000000, Val acc: 0.066667\n",
      "Epoch: 107, Loss: 1.363752, Train acc: 0.933333, Val acc: 0.066667\n",
      "Epoch: 108, Loss: 1.413964, Train acc: 0.933333, Val acc: 0.066667\n",
      "Epoch: 109, Loss: 1.360282, Train acc: 0.933333, Val acc: 0.066667\n",
      "Epoch: 110, Loss: 1.546798, Train acc: 0.933333, Val acc: 0.066667\n",
      "Epoch: 111, Loss: 1.233539, Train acc: 1.000000, Val acc: 0.066667\n",
      "Epoch: 112, Loss: 1.264784, Train acc: 0.933333, Val acc: 0.066667\n",
      "Epoch: 113, Loss: 1.077694, Train acc: 1.000000, Val acc: 0.066667\n",
      "Epoch: 114, Loss: 1.361587, Train acc: 1.000000, Val acc: 0.066667\n",
      "Epoch: 115, Loss: 1.427153, Train acc: 1.000000, Val acc: 0.066667\n",
      "Epoch: 116, Loss: 1.431721, Train acc: 1.000000, Val acc: 0.000000\n",
      "Epoch: 117, Loss: 1.330071, Train acc: 1.000000, Val acc: 0.066667\n",
      "Epoch: 118, Loss: 1.415676, Train acc: 1.000000, Val acc: 0.000000\n",
      "Epoch: 119, Loss: 1.229461, Train acc: 1.000000, Val acc: 0.066667\n",
      "Epoch: 120, Loss: 1.103605, Train acc: 0.933333, Val acc: 0.000000\n",
      "Epoch: 121, Loss: 1.456247, Train acc: 1.000000, Val acc: 0.000000\n",
      "Epoch: 122, Loss: 1.196428, Train acc: 1.000000, Val acc: 0.000000\n",
      "Epoch: 123, Loss: 1.644391, Train acc: 1.000000, Val acc: 0.000000\n",
      "Epoch: 124, Loss: 1.266130, Train acc: 0.933333, Val acc: 0.000000\n",
      "Epoch: 125, Loss: 1.245750, Train acc: 1.000000, Val acc: 0.000000\n",
      "Epoch: 126, Loss: 1.710790, Train acc: 1.000000, Val acc: 0.000000\n",
      "Epoch: 127, Loss: 1.141237, Train acc: 1.000000, Val acc: 0.000000\n",
      "Epoch: 128, Loss: 1.495624, Train acc: 1.000000, Val acc: 0.000000\n",
      "Epoch: 129, Loss: 1.429852, Train acc: 1.000000, Val acc: 0.000000\n",
      "Epoch: 130, Loss: 1.233283, Train acc: 1.000000, Val acc: 0.000000\n",
      "Epoch: 131, Loss: 1.162377, Train acc: 1.000000, Val acc: 0.000000\n",
      "Epoch: 132, Loss: 1.460468, Train acc: 1.000000, Val acc: 0.000000\n",
      "Epoch: 133, Loss: 1.142015, Train acc: 1.000000, Val acc: 0.000000\n",
      "Epoch: 134, Loss: 1.223760, Train acc: 1.000000, Val acc: 0.000000\n",
      "Epoch: 135, Loss: 1.403081, Train acc: 1.000000, Val acc: 0.000000\n",
      "Epoch: 136, Loss: 1.291190, Train acc: 1.000000, Val acc: 0.000000\n",
      "Epoch: 137, Loss: 1.125302, Train acc: 1.000000, Val acc: 0.000000\n",
      "Epoch: 138, Loss: 1.388516, Train acc: 1.000000, Val acc: 0.000000\n",
      "Epoch: 139, Loss: 1.220122, Train acc: 1.000000, Val acc: 0.000000\n",
      "Epoch: 140, Loss: 1.177552, Train acc: 1.000000, Val acc: 0.000000\n",
      "Epoch: 141, Loss: 1.441488, Train acc: 1.000000, Val acc: 0.000000\n",
      "Epoch: 142, Loss: 1.255519, Train acc: 1.000000, Val acc: 0.000000\n",
      "Epoch: 143, Loss: 1.352801, Train acc: 1.000000, Val acc: 0.000000\n",
      "Epoch: 144, Loss: 1.426601, Train acc: 1.000000, Val acc: 0.000000\n",
      "Epoch: 145, Loss: 1.440328, Train acc: 1.000000, Val acc: 0.000000\n",
      "Epoch: 146, Loss: 1.356886, Train acc: 1.000000, Val acc: 0.000000\n",
      "Epoch: 147, Loss: 1.475678, Train acc: 1.000000, Val acc: 0.000000\n",
      "Epoch: 148, Loss: 1.183068, Train acc: 1.000000, Val acc: 0.000000\n",
      "Epoch: 149, Loss: 1.179789, Train acc: 1.000000, Val acc: 0.000000\n"
     ]
    }
   ],
   "source": [
    "data_size = 15\n",
    "model = TwoLayerNet(n_input = train_X.shape[1], n_output = 10, hidden_layer_size = 100, reg = 1e-1)\n",
    "dataset = Dataset(train_X[:data_size], train_y[:data_size], val_X[:data_size], val_y[:data_size])\n",
    "trainer = Trainer(model, dataset, SGD(), learning_rate=1e-1, num_epochs=150, batch_size=5)\n",
    "\n",
    "# You should expect this to reach 1.0 training accuracy \n",
    "loss_history, train_history, val_history = trainer.fit()"
   ]
  },
  {
   "cell_type": "markdown",
   "metadata": {},
   "source": [
    "Теперь найдем гипепараметры, для которых этот процесс сходится быстрее.\n",
    "Если все реализовано корректно, то существуют параметры, при которых процесс сходится в **20** эпох или еще быстрее.\n",
    "Найдите их!"
   ]
  },
  {
   "cell_type": "code",
   "execution_count": 32,
   "metadata": {},
   "outputs": [
    {
     "name": "stdout",
     "output_type": "stream",
     "text": [
      "Epoch:  0, Loss: 2.318811, Train acc: 0.200000, Val acc: 0.066667\n",
      "Epoch:  1, Loss: 2.327018, Train acc: 0.200000, Val acc: 0.133333\n",
      "Epoch:  2, Loss: 2.159423, Train acc: 0.266667, Val acc: 0.000000\n",
      "Epoch:  3, Loss: 2.618358, Train acc: 0.266667, Val acc: 0.000000\n",
      "Epoch:  4, Loss: 1.620016, Train acc: 0.400000, Val acc: 0.000000\n",
      "Epoch:  5, Loss: 2.056780, Train acc: 0.400000, Val acc: 0.000000\n",
      "Epoch:  6, Loss: 1.731453, Train acc: 0.466667, Val acc: 0.000000\n",
      "Epoch:  7, Loss: 1.565682, Train acc: 0.466667, Val acc: 0.000000\n",
      "Epoch:  8, Loss: 1.508805, Train acc: 0.466667, Val acc: 0.000000\n",
      "Epoch:  9, Loss: 1.510555, Train acc: 0.600000, Val acc: 0.066667\n",
      "Epoch: 10, Loss: 1.982156, Train acc: 0.666667, Val acc: 0.066667\n",
      "Epoch: 11, Loss: 1.535609, Train acc: 0.400000, Val acc: 0.000000\n",
      "Epoch: 12, Loss: 2.147371, Train acc: 0.600000, Val acc: 0.066667\n",
      "Epoch: 13, Loss: 1.505106, Train acc: 0.733333, Val acc: 0.000000\n",
      "Epoch: 14, Loss: 1.266516, Train acc: 0.800000, Val acc: 0.000000\n",
      "Epoch: 15, Loss: 0.259089, Train acc: 0.800000, Val acc: 0.066667\n",
      "Epoch: 16, Loss: 0.919029, Train acc: 0.866667, Val acc: 0.066667\n",
      "Epoch: 17, Loss: 0.530118, Train acc: 0.866667, Val acc: 0.066667\n",
      "Epoch: 18, Loss: 0.192752, Train acc: 0.933333, Val acc: 0.066667\n",
      "Epoch: 19, Loss: 0.799076, Train acc: 1.000000, Val acc: 0.000000\n"
     ]
    }
   ],
   "source": [
    "# Now, tweak some hyper parameters and make it train to 1.0 accuracy in 20 epochs or less\n",
    "\n",
    "model = TwoLayerNet(n_input = train_X.shape[1], n_output = 10, hidden_layer_size = 100, reg = 1e-2)\n",
    "dataset = Dataset(train_X[:data_size], train_y[:data_size], val_X[:data_size], val_y[:data_size])\n",
    "# TODO: Change any hyperparamers or optimizators to reach training accuracy in 20 epochs\n",
    "trainer = Trainer(model, dataset, SGD(), learning_rate=0.3, num_epochs=20, batch_size=5)\n",
    "\n",
    "loss_history, train_history, val_history = trainer.fit()"
   ]
  },
  {
   "cell_type": "markdown",
   "metadata": {},
   "source": [
    "# Итак, основное мероприятие!\n",
    "\n",
    "Натренируйте лучшую нейросеть! Можно добавлять и изменять параметры, менять количество нейронов в слоях сети и как угодно экспериментировать. \n",
    "\n",
    "Добейтесь точности лучше **60%** на validation set."
   ]
  },
  {
   "cell_type": "code",
   "execution_count": null,
   "metadata": {
    "scrolled": true
   },
   "outputs": [],
   "source": [
    "# Let's train the best one-hidden-layer network we can\n",
    "\n",
    "learning_rates = 1e-4\n",
    "reg_strength = 1e-3\n",
    "learning_rate_decay = 0.999\n",
    "hidden_layer_size = 128\n",
    "num_epochs = 200\n",
    "batch_size = 64\n",
    "\n",
    "best_classifier = None\n",
    "best_val_accuracy = None\n",
    "\n",
    "loss_history = []\n",
    "train_history = []\n",
    "val_history = []\n",
    "\n",
    "# TODO find the best hyperparameters to train the network\n",
    "# Don't hesitate to add new values to the arrays above, perform experiments, use any tricks you want\n",
    "# You should expect to get to at least 40% of valudation accuracy\n",
    "# Save loss/train/history of the best classifier to the variables above \n",
    "\n",
    "print('best validation accuracy achieved: %f' % best_val_accuracy)"
   ]
  },
  {
   "cell_type": "code",
   "execution_count": null,
   "metadata": {},
   "outputs": [],
   "source": [
    "plt.figure(figsize=(15, 7))\n",
    "plt.subplot(211)\n",
    "plt.title(\"Loss\")\n",
    "plt.plot(loss_history)\n",
    "plt.subplot(212)\n",
    "plt.title(\"Train/validation accuracy\")\n",
    "plt.plot(train_history)\n",
    "plt.plot(val_history)"
   ]
  },
  {
   "cell_type": "markdown",
   "metadata": {},
   "source": [
    "# Как обычно, посмотрим, как наша лучшая модель работает на тестовых данных"
   ]
  },
  {
   "cell_type": "code",
   "execution_count": null,
   "metadata": {},
   "outputs": [],
   "source": [
    "test_pred = best_classifier.predict(test_X)\n",
    "test_accuracy = multiclass_accuracy(test_pred, test_y)\n",
    "print('Neural net test set accuracy: %f' % (test_accuracy, ))"
   ]
  }
 ],
 "metadata": {
  "kernelspec": {
   "display_name": "Python 3",
   "language": "python",
   "name": "python3"
  },
  "language_info": {
   "codemirror_mode": {
    "name": "ipython",
    "version": 3
   },
   "file_extension": ".py",
   "mimetype": "text/x-python",
   "name": "python",
   "nbconvert_exporter": "python",
   "pygments_lexer": "ipython3",
   "version": "3.7.7"
  }
 },
 "nbformat": 4,
 "nbformat_minor": 4
}
